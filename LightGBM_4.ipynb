{
 "cells": [
  {
   "cell_type": "code",
   "execution_count": 1,
   "id": "ba272296-1261-4c44-940b-5a3637991b6e",
   "metadata": {},
   "outputs": [],
   "source": [
    "from sklearn.model_selection import train_test_split\n",
    "\n",
    "import lightgbm as lgb\n",
    "from sklearn.model_selection import StratifiedKFold, cross_val_score\n",
    "from sklearn.metrics import roc_auc_score, precision_score, recall_score, roc_curve, accuracy_score, f1_score, auc, classification_report, log_loss\n",
    "from scipy.stats import ks_2samp\n",
    "\n",
    "from sklearn.ensemble import VotingClassifier\n",
    "from sklearn.model_selection import RandomizedSearchCV\n",
    "from sklearn.preprocessing import OneHotEncoder, StandardScaler, LabelEncoder\n",
    "\n",
    "import warnings\n",
    "warnings.filterwarnings(\"ignore\")\n",
    "\n",
    "import numpy as np\n",
    "import pandas as pd"
   ]
  },
  {
   "cell_type": "code",
   "execution_count": 22,
   "id": "dbc94fea-f268-4504-bd05-12d659ff4051",
   "metadata": {},
   "outputs": [
    {
     "data": {
      "text/plain": [
       "((20758, 18), (13840, 17), (13840, 2))"
      ]
     },
     "execution_count": 22,
     "metadata": {},
     "output_type": "execute_result"
    }
   ],
   "source": [
    "train = pd.read_csv(\"data/train.csv\")\n",
    "test = pd.read_csv(\"data/test.csv\")\n",
    "submission = pd.read_csv(\"data/sample_submission.csv\")\n",
    "\n",
    "train.shape, test.shape, submission.shape"
   ]
  },
  {
   "cell_type": "code",
   "execution_count": 3,
   "id": "883060c6-a57d-415d-8ad9-f8e26bdfcecb",
   "metadata": {},
   "outputs": [],
   "source": [
    "train.drop(\"id\", axis=1, inplace=True)\n",
    "test.drop(\"id\", axis=1, inplace=True)"
   ]
  },
  {
   "cell_type": "code",
   "execution_count": 4,
   "id": "4e27c727-94e0-4f2c-b70f-a489cbc9faf3",
   "metadata": {},
   "outputs": [],
   "source": [
    "train['BMI'] = train['Weight'] / (train['Height']**2)\n",
    "test['BMI'] = test['Weight'] / (test['Height']**2)"
   ]
  },
  {
   "cell_type": "code",
   "execution_count": 5,
   "id": "6a9b26f4-9a3f-4046-9a95-57fa0fbb6dac",
   "metadata": {},
   "outputs": [],
   "source": [
    "nobeyesdad_mapping = {'Insufficient_Weight': 0, \n",
    "                      'Normal_Weight': 1, \n",
    "                      'Overweight_Level_I': 2, \n",
    "                      'Overweight_Level_II': 3, \n",
    "                      'Obesity_Type_I': 4, \n",
    "                      'Obesity_Type_II': 5, \n",
    "                      'Obesity_Type_III': 6}\n",
    "\n",
    "train['NObeyesdad'] = train['NObeyesdad'].map(nobeyesdad_mapping)"
   ]
  },
  {
   "cell_type": "code",
   "execution_count": 6,
   "id": "2e46fb93-5f29-4788-845c-dcb98dd92dc5",
   "metadata": {},
   "outputs": [
    {
     "data": {
      "text/html": [
       "<div>\n",
       "<style scoped>\n",
       "    .dataframe tbody tr th:only-of-type {\n",
       "        vertical-align: middle;\n",
       "    }\n",
       "\n",
       "    .dataframe tbody tr th {\n",
       "        vertical-align: top;\n",
       "    }\n",
       "\n",
       "    .dataframe thead th {\n",
       "        text-align: right;\n",
       "    }\n",
       "</style>\n",
       "<table border=\"1\" class=\"dataframe\">\n",
       "  <thead>\n",
       "    <tr style=\"text-align: right;\">\n",
       "      <th></th>\n",
       "      <th>Gender</th>\n",
       "      <th>Age</th>\n",
       "      <th>Height</th>\n",
       "      <th>Weight</th>\n",
       "      <th>family_history_with_overweight</th>\n",
       "      <th>FAVC</th>\n",
       "      <th>FCVC</th>\n",
       "      <th>NCP</th>\n",
       "      <th>CAEC</th>\n",
       "      <th>SMOKE</th>\n",
       "      <th>CH2O</th>\n",
       "      <th>SCC</th>\n",
       "      <th>FAF</th>\n",
       "      <th>TUE</th>\n",
       "      <th>CALC</th>\n",
       "      <th>MTRANS</th>\n",
       "      <th>NObeyesdad</th>\n",
       "      <th>BMI</th>\n",
       "    </tr>\n",
       "  </thead>\n",
       "  <tbody>\n",
       "    <tr>\n",
       "      <th>0</th>\n",
       "      <td>Male</td>\n",
       "      <td>24.443011</td>\n",
       "      <td>1.699998</td>\n",
       "      <td>81.66995</td>\n",
       "      <td>yes</td>\n",
       "      <td>yes</td>\n",
       "      <td>2.0</td>\n",
       "      <td>2.983297</td>\n",
       "      <td>Sometimes</td>\n",
       "      <td>no</td>\n",
       "      <td>2.763573</td>\n",
       "      <td>no</td>\n",
       "      <td>0.0</td>\n",
       "      <td>0.976473</td>\n",
       "      <td>Sometimes</td>\n",
       "      <td>Public_Transportation</td>\n",
       "      <td>3.0</td>\n",
       "      <td>28.259565</td>\n",
       "    </tr>\n",
       "  </tbody>\n",
       "</table>\n",
       "</div>"
      ],
      "text/plain": [
       "  Gender        Age    Height    Weight family_history_with_overweight FAVC  \\\n",
       "0   Male  24.443011  1.699998  81.66995                            yes  yes   \n",
       "\n",
       "   FCVC       NCP       CAEC SMOKE      CH2O SCC  FAF       TUE       CALC  \\\n",
       "0   2.0  2.983297  Sometimes    no  2.763573  no  0.0  0.976473  Sometimes   \n",
       "\n",
       "                  MTRANS  NObeyesdad        BMI  \n",
       "0  Public_Transportation         3.0  28.259565  "
      ]
     },
     "execution_count": 6,
     "metadata": {},
     "output_type": "execute_result"
    }
   ],
   "source": [
    "all = pd.concat([train, test], sort=False).reset_index(drop=True)\n",
    "all.head(1)"
   ]
  },
  {
   "cell_type": "code",
   "execution_count": 7,
   "id": "4dcc17ab-0b37-4153-addf-927be5d36af3",
   "metadata": {},
   "outputs": [
    {
     "name": "stdout",
     "output_type": "stream",
     "text": [
      "Index(['Gender', 'family_history_with_overweight', 'FAVC', 'CAEC', 'SMOKE',\n",
      "       'SCC', 'CALC', 'MTRANS'],\n",
      "      dtype='object')\n"
     ]
    }
   ],
   "source": [
    "categories = all.columns[all.dtypes==\"object\"]\n",
    "print(categories)"
   ]
  },
  {
   "cell_type": "code",
   "execution_count": 8,
   "id": "54c815cd-6261-4806-93d5-83dbf87697a5",
   "metadata": {},
   "outputs": [
    {
     "name": "stdout",
     "output_type": "stream",
     "text": [
      "Gender\n",
      "family_history_with_overweight\n",
      "FAVC\n",
      "CAEC\n",
      "SMOKE\n",
      "SCC\n",
      "CALC\n",
      "MTRANS\n"
     ]
    }
   ],
   "source": [
    "for cat in categories:\n",
    "    le = LabelEncoder()\n",
    "    print(cat)\n",
    "    if all[cat].dtypes == \"object\":\n",
    "        le = le.fit(all[cat])\n",
    "        all[cat] = le.transform(all[cat])"
   ]
  },
  {
   "cell_type": "code",
   "execution_count": 9,
   "id": "e92d78d6-c669-4854-8767-afe01f05c694",
   "metadata": {},
   "outputs": [],
   "source": [
    "train_X = all[~all[\"NObeyesdad\"].isnull()].drop(\"NObeyesdad\", axis=1).reset_index(drop=True)\n",
    "train_Y = train[\"NObeyesdad\"]\n",
    "test_X = all[all[\"NObeyesdad\"].isnull()].drop(\"NObeyesdad\", axis=1).reset_index(drop=True)"
   ]
  },
  {
   "cell_type": "code",
   "execution_count": 10,
   "id": "bb10aaa2-18d3-43c6-8cde-6d67cc4811b5",
   "metadata": {},
   "outputs": [],
   "source": [
    "X_tr, X_val, y_tr, y_val = train_test_split(train_X, train_Y, test_size=0.2,\n",
    "                                                      random_state=1234, shuffle=True)"
   ]
  },
  {
   "cell_type": "code",
   "execution_count": 11,
   "id": "fc787bca-0c5d-4e44-8c68-985c4fc072bb",
   "metadata": {},
   "outputs": [
    {
     "data": {
      "text/plain": [
       "((16606, 17), (4152, 17), (16606,), (4152,))"
      ]
     },
     "execution_count": 11,
     "metadata": {},
     "output_type": "execute_result"
    }
   ],
   "source": [
    "X_tr.shape, X_val.shape, y_tr.shape, y_val.shape"
   ]
  },
  {
   "cell_type": "code",
   "execution_count": 12,
   "id": "e2fd957c-3573-4920-88d0-a917595223e2",
   "metadata": {},
   "outputs": [],
   "source": [
    "import optuna\n",
    "ran_optuna = False"
   ]
  },
  {
   "cell_type": "code",
   "execution_count": 13,
   "id": "9485a46e-a3ac-493c-b241-b7c2369bf3de",
   "metadata": {},
   "outputs": [],
   "source": [
    "# def objective(trial):\n",
    "#     params = {\n",
    "#         'objective': 'multiclass',\n",
    "#         'metric': 'multi_logloss',\n",
    "#         'verbosity': -1,\n",
    "#         'boosting_type': 'gbdt',\n",
    "#         'random_state': 42,\n",
    "#         'num_class': 7,\n",
    "#         'learning_rate': trial.suggest_float('learning_rate', 0.01, 0.05),\n",
    "#         'n_estimators': trial.suggest_int('n_estimators', 300, 700),\n",
    "#         'reg_alpha': trial.suggest_loguniform('reg_alpha', 1e-3, 10.0),\n",
    "#         'reg_lambda': trial.suggest_loguniform('reg_lambda', 1e-1, 10.0),\n",
    "#         'max_depth': trial.suggest_int('max_depth', 5, 20),\n",
    "#         'colsample_bytree': trial.suggest_float('colsample_bytree', 0.3, 0.9),\n",
    "#         'subsample': trial.suggest_float('subsample', 0.5, 1.0),\n",
    "#         'min_child_samples': trial.suggest_int('min_child_samples', 10, 100)\n",
    "#     }\n",
    "# \n",
    "#     model = lgb.LGBMClassifier(**params)\n",
    "#     model.fit(X_tr, y_tr)\n",
    "# \n",
    "#     y_pred = model.predict_proba(X_val)\n",
    "# \n",
    "#     logloss = log_loss(y_val, y_pred)\n",
    "# \n",
    "#     return logloss\n",
    "# \n",
    "# study = optuna.create_study(direction='minimize')\n",
    "# study.optimize(objective, n_trials=300)\n",
    "# \n",
    "# print('Best trial:')\n",
    "# trial = study.best_trial\n",
    "# \n",
    "# print('Logloss: {}'.format(trial.value))\n",
    "# print(\"Best hyperparameters: {}\".format(trial.params))\n"
   ]
  },
  {
   "cell_type": "code",
   "execution_count": 14,
   "id": "b1c4f38f-2d37-4a1c-b8de-147be31c10d5",
   "metadata": {},
   "outputs": [],
   "source": [
    "lgb_params = {\n",
    "    'objective': 'multiclass',\n",
    "    'metric': 'multi_logloss',\n",
    "    'verbosity': -1,\n",
    "    'boosting_type': 'gbdt',\n",
    "    'random_state': 42,\n",
    "    'num_class': 7,\n",
    "    'learning_rate': 0.017502045209134707,  # 업데이트된 파라미터\n",
    "    'n_estimators': 692,  # 업데이트된 파라미터\n",
    "    'lambda_l1': 0.0015114792609456518,  # 'reg_alpha'를 'lambda_l1'로 매핑\n",
    "    'lambda_l2': 2.8512154940523122,  # 업데이트된 파라미터\n",
    "    'max_depth': 14,  # 업데이트된 파라미터\n",
    "    'colsample_bytree': 0.31061881181805084,  # 업데이트된 파라미터\n",
    "    'subsample': 0.5111305500417948,  # 업데이트된 파라미터\n",
    "    'min_child_samples': 88  # 업데이트된 파라미터\n",
    "}"
   ]
  },
  {
   "cell_type": "code",
   "execution_count": 15,
   "id": "9fe418b2-0ef8-4228-a7e4-afea786b9e13",
   "metadata": {},
   "outputs": [
    {
     "name": "stdout",
     "output_type": "stream",
     "text": [
      "Accuracy: 0.9101637764932563\n",
      "Accuracy: 0.9161849710982659\n",
      "Accuracy: 0.9051059730250481\n",
      "Accuracy: 0.9077330763671404\n",
      "Accuracy: 0.9101421344254397\n"
     ]
    }
   ],
   "source": [
    "kf = StratifiedKFold(n_splits=5, shuffle=True, random_state=1234)\n",
    "\n",
    "early_stopping_callback = lgb.early_stopping(stopping_rounds=10, verbose=False)\n",
    "\n",
    "models = []\n",
    "for train_index, val_index in kf.split(train_X, train_Y):  # train_Y 추가\n",
    "    X_train = train_X.iloc[train_index]\n",
    "    X_valid = train_X.iloc[val_index]\n",
    "    y_train = train_Y.iloc[train_index]\n",
    "    y_valid = train_Y.iloc[val_index]\n",
    "    \n",
    "    lgb_train = lgb.Dataset(X_train, y_train)\n",
    "    lgb_eval = lgb.Dataset(X_valid, y_valid, reference=lgb_train)\n",
    "    \n",
    "    model_lgb = lgb.train(lgb_params,\n",
    "                          lgb_train,\n",
    "                          valid_sets=lgb_eval,\n",
    "                          num_boost_round=100,\n",
    "                          callbacks=[early_stopping_callback])\n",
    "\n",
    "    y_pred = model_lgb.predict(X_valid, num_iteration=model_lgb.best_iteration)\n",
    "    \n",
    "    if y_pred.ndim > 1 and y_pred.shape[1] > 1:\n",
    "        y_pred_labels = np.argmax(y_pred, axis=1)\n",
    "    else: \n",
    "        y_pred_labels = (y_pred > 0.5).astype(int)\n",
    "    \n",
    "    accuracy = accuracy_score(y_valid, y_pred_labels)\n",
    "    print(f'Accuracy: {accuracy}')\n",
    "    models.append(model_lgb)"
   ]
  },
  {
   "cell_type": "code",
   "execution_count": 17,
   "id": "774d24a6-4648-4f73-a3cc-72043e7c0629",
   "metadata": {},
   "outputs": [],
   "source": [
    "preds = []\n",
    "\n",
    "for model in models:\n",
    "    pred = model.predict(test_X)\n",
    "    preds.append(pred)"
   ]
  },
  {
   "cell_type": "code",
   "execution_count": 18,
   "id": "7b15bdf3-75fe-471d-835e-3f5eecb12e12",
   "metadata": {},
   "outputs": [
    {
     "data": {
      "text/plain": [
       "array([5, 2, 6, ..., 0, 1, 5], dtype=int64)"
      ]
     },
     "execution_count": 18,
     "metadata": {},
     "output_type": "execute_result"
    }
   ],
   "source": [
    "y_pred = model_lgb.predict(test_X, num_iteration=model_lgb.best_iteration)\n",
    "predicted_classes = np.argmax(y_pred, axis=1)\n",
    "predicted_classes"
   ]
  },
  {
   "cell_type": "code",
   "execution_count": 19,
   "id": "823405ba-e496-40e9-b044-7ed8511586e4",
   "metadata": {},
   "outputs": [],
   "source": [
    "inverse_nobeyesdad_mapping = {v: k for k, v in nobeyesdad_mapping.items()}\n",
    "predicted_labels = [inverse_nobeyesdad_mapping[i] for i in predicted_classes]"
   ]
  },
  {
   "cell_type": "code",
   "execution_count": 23,
   "id": "7ae94480-1e24-4cdc-9398-2c82a84ce093",
   "metadata": {},
   "outputs": [
    {
     "data": {
      "text/plain": [
       "(13840, 2)"
      ]
     },
     "execution_count": 23,
     "metadata": {},
     "output_type": "execute_result"
    }
   ],
   "source": [
    "submission[\"NObeyesdad\"] = predicted_labels\n",
    "submission.shape"
   ]
  },
  {
   "cell_type": "code",
   "execution_count": 24,
   "id": "72377f98-73e3-48f3-8220-1be28ee730a1",
   "metadata": {},
   "outputs": [],
   "source": [
    "submission.to_csv(\"submission_lgb_1.csv\", index=False)"
   ]
  },
  {
   "cell_type": "code",
   "execution_count": null,
   "id": "a4c04a90-015b-4ee5-a50d-13a19885fa93",
   "metadata": {},
   "outputs": [],
   "source": []
  }
 ],
 "metadata": {
  "kernelspec": {
   "display_name": "Python 3 (ipykernel)",
   "language": "python",
   "name": "python3"
  },
  "language_info": {
   "codemirror_mode": {
    "name": "ipython",
    "version": 3
   },
   "file_extension": ".py",
   "mimetype": "text/x-python",
   "name": "python",
   "nbconvert_exporter": "python",
   "pygments_lexer": "ipython3",
   "version": "3.12.1"
  }
 },
 "nbformat": 4,
 "nbformat_minor": 5
}
