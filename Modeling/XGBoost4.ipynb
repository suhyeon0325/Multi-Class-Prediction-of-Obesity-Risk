{
 "cells": [
  {
   "cell_type": "code",
   "execution_count": 1,
   "id": "e1d54366",
   "metadata": {
    "_cell_guid": "b1076dfc-b9ad-4769-8c92-a6c4dae69d19",
    "_uuid": "8f2839f25d086af736a60e9eeb907d3b93b6e0e5",
    "execution": {
     "iopub.execute_input": "2024-02-27T09:12:36.597732Z",
     "iopub.status.busy": "2024-02-27T09:12:36.596959Z",
     "iopub.status.idle": "2024-02-27T09:12:37.837159Z",
     "shell.execute_reply": "2024-02-27T09:12:37.835864Z"
    },
    "papermill": {
     "duration": 1.254333,
     "end_time": "2024-02-27T09:12:37.840378",
     "exception": false,
     "start_time": "2024-02-27T09:12:36.586045",
     "status": "completed"
    },
    "tags": []
   },
   "outputs": [
    {
     "name": "stdout",
     "output_type": "stream",
     "text": [
      "/kaggle/input/playground-series-s4e2/sample_submission.csv\n",
      "/kaggle/input/playground-series-s4e2/train.csv\n",
      "/kaggle/input/playground-series-s4e2/test.csv\n"
     ]
    }
   ],
   "source": [
    "# This Python 3 environment comes with many helpful analytics libraries installed\n",
    "# It is defined by the kaggle/python Docker image: https://github.com/kaggle/docker-python\n",
    "# For example, here's several helpful packages to load\n",
    "\n",
    "import numpy as np # linear algebra\n",
    "import pandas as pd # data processing, CSV file I/O (e.g. pd.read_csv)\n",
    "\n",
    "# Input data files are available in the read-only \"../input/\" directory\n",
    "# For example, running this (by clicking run or pressing Shift+Enter) will list all files under the input directory\n",
    "\n",
    "import os\n",
    "for dirname, _, filenames in os.walk('/kaggle/input'):\n",
    "    for filename in filenames:\n",
    "        print(os.path.join(dirname, filename))\n",
    "\n",
    "# You can write up to 20GB to the current directory (/kaggle/working/) that gets preserved as output when you create a version using \"Save & Run All\" \n",
    "# You can also write temporary files to /kaggle/temp/, but they won't be saved outside of the current session"
   ]
  },
  {
   "cell_type": "code",
   "execution_count": 2,
   "id": "c4d561df",
   "metadata": {
    "execution": {
     "iopub.execute_input": "2024-02-27T09:12:37.860971Z",
     "iopub.status.busy": "2024-02-27T09:12:37.860183Z",
     "iopub.status.idle": "2024-02-27T09:12:39.844268Z",
     "shell.execute_reply": "2024-02-27T09:12:39.842667Z"
    },
    "papermill": {
     "duration": 1.998287,
     "end_time": "2024-02-27T09:12:39.847512",
     "exception": false,
     "start_time": "2024-02-27T09:12:37.849225",
     "status": "completed"
    },
    "tags": []
   },
   "outputs": [],
   "source": [
    "import pandas as pd\n",
    "import numpy as np\n",
    "import matplotlib.pyplot as plt\n",
    "from sklearn.model_selection import train_test_split, GridSearchCV, cross_val_score, RandomizedSearchCV\n",
    "from sklearn.model_selection import StratifiedKFold\n",
    "from sklearn.model_selection import cross_val_score\n",
    "from sklearn.preprocessing import OneHotEncoder, StandardScaler\n",
    "from sklearn.compose import ColumnTransformer\n",
    "from sklearn.pipeline import Pipeline\n",
    "from sklearn.metrics import accuracy_score, recall_score, precision_score, f1_score\n",
    "from sklearn.base import BaseEstimator, TransformerMixin\n",
    "from xgboost import XGBClassifier\n",
    "import xgboost as xgb\n",
    "from sklearn.preprocessing import LabelEncoder\n",
    "from scipy.stats import uniform, randint\n",
    "import warnings\n",
    "warnings.filterwarnings('ignore')"
   ]
  },
  {
   "cell_type": "code",
   "execution_count": 3,
   "id": "beaadac0",
   "metadata": {
    "execution": {
     "iopub.execute_input": "2024-02-27T09:12:39.866108Z",
     "iopub.status.busy": "2024-02-27T09:12:39.865012Z",
     "iopub.status.idle": "2024-02-27T09:12:40.089258Z",
     "shell.execute_reply": "2024-02-27T09:12:40.088087Z"
    },
    "papermill": {
     "duration": 0.236423,
     "end_time": "2024-02-27T09:12:40.091999",
     "exception": false,
     "start_time": "2024-02-27T09:12:39.855576",
     "status": "completed"
    },
    "tags": []
   },
   "outputs": [],
   "source": [
    "train = pd.read_csv(\"/kaggle/input/playground-series-s4e2/train.csv\")\n",
    "test = pd.read_csv(\"/kaggle/input/playground-series-s4e2/test.csv\")\n",
    "submission = pd.read_csv('/kaggle/input/playground-series-s4e2/sample_submission.csv')"
   ]
  },
  {
   "cell_type": "markdown",
   "id": "d1a3ce7c",
   "metadata": {
    "papermill": {
     "duration": 0.00767,
     "end_time": "2024-02-27T09:12:40.107744",
     "exception": false,
     "start_time": "2024-02-27T09:12:40.100074",
     "status": "completed"
    },
    "tags": []
   },
   "source": [
    "## bmi 생성"
   ]
  },
  {
   "cell_type": "code",
   "execution_count": 4,
   "id": "b7af9b2c",
   "metadata": {
    "execution": {
     "iopub.execute_input": "2024-02-27T09:12:40.126860Z",
     "iopub.status.busy": "2024-02-27T09:12:40.126019Z",
     "iopub.status.idle": "2024-02-27T09:12:40.162498Z",
     "shell.execute_reply": "2024-02-27T09:12:40.161144Z"
    },
    "papermill": {
     "duration": 0.049412,
     "end_time": "2024-02-27T09:12:40.165284",
     "exception": false,
     "start_time": "2024-02-27T09:12:40.115872",
     "status": "completed"
    },
    "tags": []
   },
   "outputs": [
    {
     "data": {
      "text/html": [
       "<div>\n",
       "<style scoped>\n",
       "    .dataframe tbody tr th:only-of-type {\n",
       "        vertical-align: middle;\n",
       "    }\n",
       "\n",
       "    .dataframe tbody tr th {\n",
       "        vertical-align: top;\n",
       "    }\n",
       "\n",
       "    .dataframe thead th {\n",
       "        text-align: right;\n",
       "    }\n",
       "</style>\n",
       "<table border=\"1\" class=\"dataframe\">\n",
       "  <thead>\n",
       "    <tr style=\"text-align: right;\">\n",
       "      <th></th>\n",
       "      <th>id</th>\n",
       "      <th>Gender</th>\n",
       "      <th>Age</th>\n",
       "      <th>Height</th>\n",
       "      <th>Weight</th>\n",
       "      <th>family_history_with_overweight</th>\n",
       "      <th>FAVC</th>\n",
       "      <th>FCVC</th>\n",
       "      <th>NCP</th>\n",
       "      <th>CAEC</th>\n",
       "      <th>SMOKE</th>\n",
       "      <th>CH2O</th>\n",
       "      <th>SCC</th>\n",
       "      <th>FAF</th>\n",
       "      <th>TUE</th>\n",
       "      <th>CALC</th>\n",
       "      <th>MTRANS</th>\n",
       "      <th>NObeyesdad</th>\n",
       "      <th>BMI</th>\n",
       "    </tr>\n",
       "  </thead>\n",
       "  <tbody>\n",
       "    <tr>\n",
       "      <th>0</th>\n",
       "      <td>0</td>\n",
       "      <td>Male</td>\n",
       "      <td>24.443011</td>\n",
       "      <td>1.699998</td>\n",
       "      <td>81.66995</td>\n",
       "      <td>yes</td>\n",
       "      <td>yes</td>\n",
       "      <td>2.0</td>\n",
       "      <td>2.983297</td>\n",
       "      <td>Sometimes</td>\n",
       "      <td>no</td>\n",
       "      <td>2.763573</td>\n",
       "      <td>no</td>\n",
       "      <td>0.0</td>\n",
       "      <td>0.976473</td>\n",
       "      <td>Sometimes</td>\n",
       "      <td>Public_Transportation</td>\n",
       "      <td>Overweight_Level_II</td>\n",
       "      <td>28.259565</td>\n",
       "    </tr>\n",
       "  </tbody>\n",
       "</table>\n",
       "</div>"
      ],
      "text/plain": [
       "   id Gender        Age    Height    Weight family_history_with_overweight  \\\n",
       "0   0   Male  24.443011  1.699998  81.66995                            yes   \n",
       "\n",
       "  FAVC  FCVC       NCP       CAEC SMOKE      CH2O SCC  FAF       TUE  \\\n",
       "0  yes   2.0  2.983297  Sometimes    no  2.763573  no  0.0  0.976473   \n",
       "\n",
       "        CALC                 MTRANS           NObeyesdad        BMI  \n",
       "0  Sometimes  Public_Transportation  Overweight_Level_II  28.259565  "
      ]
     },
     "execution_count": 4,
     "metadata": {},
     "output_type": "execute_result"
    }
   ],
   "source": [
    "train['BMI'] = train['Weight'] / (train['Height']**2)\n",
    "test['BMI'] = test['Weight'] / (test['Height']**2)\n",
    "\n",
    "train.head(1)"
   ]
  },
  {
   "cell_type": "markdown",
   "id": "f87ad70c",
   "metadata": {
    "papermill": {
     "duration": 0.007878,
     "end_time": "2024-02-27T09:12:40.181969",
     "exception": false,
     "start_time": "2024-02-27T09:12:40.174091",
     "status": "completed"
    },
    "tags": []
   },
   "source": [
    "## 순서형 변수인코딩"
   ]
  },
  {
   "cell_type": "code",
   "execution_count": 5,
   "id": "e19d2842",
   "metadata": {
    "execution": {
     "iopub.execute_input": "2024-02-27T09:12:40.200440Z",
     "iopub.status.busy": "2024-02-27T09:12:40.200026Z",
     "iopub.status.idle": "2024-02-27T09:12:40.226419Z",
     "shell.execute_reply": "2024-02-27T09:12:40.225183Z"
    },
    "papermill": {
     "duration": 0.039079,
     "end_time": "2024-02-27T09:12:40.229363",
     "exception": false,
     "start_time": "2024-02-27T09:12:40.190284",
     "status": "completed"
    },
    "tags": []
   },
   "outputs": [],
   "source": [
    "# \"id\" 컬럼을 train과 test DataFrame에서 제거\n",
    "train.drop(\"id\", axis=1, inplace=True)\n",
    "test.drop(\"id\", axis=1, inplace=True)"
   ]
  },
  {
   "cell_type": "code",
   "execution_count": 6,
   "id": "b2217234",
   "metadata": {
    "execution": {
     "iopub.execute_input": "2024-02-27T09:12:40.248708Z",
     "iopub.status.busy": "2024-02-27T09:12:40.248267Z",
     "iopub.status.idle": "2024-02-27T09:12:40.290642Z",
     "shell.execute_reply": "2024-02-27T09:12:40.289204Z"
    },
    "papermill": {
     "duration": 0.055415,
     "end_time": "2024-02-27T09:12:40.293528",
     "exception": false,
     "start_time": "2024-02-27T09:12:40.238113",
     "status": "completed"
    },
    "tags": []
   },
   "outputs": [],
   "source": [
    "caec_mapping = {'no': 0, \n",
    "                'Sometimes': 1, \n",
    "                'Frequently': 2, \n",
    "                'Always': 3}\n",
    "\n",
    "calc_mapping = {'no': 0, \n",
    "                'Sometimes': 1, \n",
    "                'Frequently': 2}\n",
    "\n",
    "mtrans_mapping = {'Walking': 4, \n",
    "                  'Bike': 3, \n",
    "                  'Public_Transportation': 2, \n",
    "                  'Motorbike': 1, \n",
    "                  'Automobile': 0}\n",
    "\n",
    "nobeyesdad_mapping = {'Insufficient_Weight': 0, \n",
    "                      'Normal_Weight': 1, \n",
    "                      'Overweight_Level_I': 2, \n",
    "                      'Overweight_Level_II': 3, \n",
    "                      'Obesity_Type_I': 4, \n",
    "                      'Obesity_Type_II': 5, \n",
    "                      'Obesity_Type_III': 6}\n",
    "\n",
    "gender_mapping = {'Female': 0, 'Male': 1}\n",
    "\n",
    "train['CAEC'] = train['CAEC'].map(caec_mapping)\n",
    "test['CAEC'] = test['CAEC'].map(caec_mapping)\n",
    "train['CALC'] = train['CALC'].map(calc_mapping)\n",
    "test['CALC'] = test['CALC'].map(calc_mapping)\n",
    "train['MTRANS'] = train['MTRANS'].map(mtrans_mapping)\n",
    "test['MTRANS'] = test['MTRANS'].map(mtrans_mapping)\n",
    "train['NObeyesdad'] = train['NObeyesdad'].map(nobeyesdad_mapping)\n",
    "train['Gender'] = train['Gender'].map(gender_mapping)\n",
    "test['Gender'] = test['Gender'].map(gender_mapping)"
   ]
  },
  {
   "cell_type": "markdown",
   "id": "fa748551",
   "metadata": {
    "papermill": {
     "duration": 0.009771,
     "end_time": "2024-02-27T09:12:40.312146",
     "exception": false,
     "start_time": "2024-02-27T09:12:40.302375",
     "status": "completed"
    },
    "tags": []
   },
   "source": [
    "## 명목형 변수 인코딩"
   ]
  },
  {
   "cell_type": "code",
   "execution_count": 7,
   "id": "28fc576e",
   "metadata": {
    "execution": {
     "iopub.execute_input": "2024-02-27T09:12:40.334582Z",
     "iopub.status.busy": "2024-02-27T09:12:40.333405Z",
     "iopub.status.idle": "2024-02-27T09:12:40.344414Z",
     "shell.execute_reply": "2024-02-27T09:12:40.343191Z"
    },
    "papermill": {
     "duration": 0.026577,
     "end_time": "2024-02-27T09:12:40.347797",
     "exception": false,
     "start_time": "2024-02-27T09:12:40.321220",
     "status": "completed"
    },
    "tags": []
   },
   "outputs": [],
   "source": [
    "# 범주형 피처 인코딩을 위해 OneHotEncoder 사용\n",
    "categorical_features = ['family_history_with_overweight', 'FAVC', 'SMOKE', 'SCC']\n",
    "numerical_features = train.columns.drop(['NObeyesdad'] + categorical_features)\n",
    "\n",
    "# 전처리기 설정\n",
    "preprocessor = ColumnTransformer(\n",
    "    transformers=[\n",
    "        ('num', StandardScaler(), numerical_features),  # 수치형 변수 스케일링\n",
    "        ('cat', OneHotEncoder(), categorical_features)  # 범주형 변수 OneHot 인코딩\n",
    "    ])\n",
    "\n",
    "# 파이프라인 구축\n",
    "pipeline = Pipeline(steps=[\n",
    "    ('preprocessor', preprocessor),\n",
    "    ('classifier', XGBClassifier(\n",
    "        subsample=0.7,\n",
    "        n_estimators=900,\n",
    "        max_depth=4,\n",
    "        learning_rate=0.03,\n",
    "        colsample_bytree=0.5,\n",
    "        use_label_encoder=False,\n",
    "        eval_metric='mlogloss'\n",
    "    ))\n",
    "])"
   ]
  },
  {
   "cell_type": "code",
   "execution_count": 8,
   "id": "f723324d",
   "metadata": {
    "execution": {
     "iopub.execute_input": "2024-02-27T09:12:40.368412Z",
     "iopub.status.busy": "2024-02-27T09:12:40.367282Z",
     "iopub.status.idle": "2024-02-27T09:12:40.396644Z",
     "shell.execute_reply": "2024-02-27T09:12:40.395217Z"
    },
    "papermill": {
     "duration": 0.043263,
     "end_time": "2024-02-27T09:12:40.399503",
     "exception": false,
     "start_time": "2024-02-27T09:12:40.356240",
     "status": "completed"
    },
    "tags": []
   },
   "outputs": [
    {
     "data": {
      "text/plain": [
       "((16606, 17), (4152, 17), (16606,), (4152,))"
      ]
     },
     "execution_count": 8,
     "metadata": {},
     "output_type": "execute_result"
    }
   ],
   "source": [
    "# 타겟 변수와 피처 분리\n",
    "X = train.drop('NObeyesdad', axis=1)\n",
    "y = train['NObeyesdad']\n",
    "\n",
    "# 학습 세트와 테스트 세트로 분할\n",
    "X_train, X_test, y_train, y_test = train_test_split(X, y, test_size=0.2, random_state=42)\n",
    "\n",
    "X_train.shape, X_test.shape, y_train.shape, y_test.shape"
   ]
  },
  {
   "cell_type": "code",
   "execution_count": 9,
   "id": "ed4d8b54",
   "metadata": {
    "execution": {
     "iopub.execute_input": "2024-02-27T09:12:40.418273Z",
     "iopub.status.busy": "2024-02-27T09:12:40.417849Z",
     "iopub.status.idle": "2024-02-27T09:12:40.430776Z",
     "shell.execute_reply": "2024-02-27T09:12:40.429376Z"
    },
    "papermill": {
     "duration": 0.025907,
     "end_time": "2024-02-27T09:12:40.433864",
     "exception": false,
     "start_time": "2024-02-27T09:12:40.407957",
     "status": "completed"
    },
    "tags": []
   },
   "outputs": [],
   "source": [
    "# 레이블 인코더 생성 및 타겟 레이블 인코딩\n",
    "label_encoder = LabelEncoder()\n",
    "y_train_encoded = label_encoder.fit_transform(y_train)\n",
    "y_test_encoded = label_encoder.transform(y_test)"
   ]
  },
  {
   "cell_type": "code",
   "execution_count": 10,
   "id": "6e2daae1",
   "metadata": {
    "execution": {
     "iopub.execute_input": "2024-02-27T09:12:40.452675Z",
     "iopub.status.busy": "2024-02-27T09:12:40.452181Z",
     "iopub.status.idle": "2024-02-27T09:12:53.129618Z",
     "shell.execute_reply": "2024-02-27T09:12:53.128388Z"
    },
    "papermill": {
     "duration": 12.6902,
     "end_time": "2024-02-27T09:12:53.132487",
     "exception": false,
     "start_time": "2024-02-27T09:12:40.442287",
     "status": "completed"
    },
    "tags": []
   },
   "outputs": [
    {
     "data": {
      "text/html": [
       "<style>#sk-container-id-1 {color: black;background-color: white;}#sk-container-id-1 pre{padding: 0;}#sk-container-id-1 div.sk-toggleable {background-color: white;}#sk-container-id-1 label.sk-toggleable__label {cursor: pointer;display: block;width: 100%;margin-bottom: 0;padding: 0.3em;box-sizing: border-box;text-align: center;}#sk-container-id-1 label.sk-toggleable__label-arrow:before {content: \"▸\";float: left;margin-right: 0.25em;color: #696969;}#sk-container-id-1 label.sk-toggleable__label-arrow:hover:before {color: black;}#sk-container-id-1 div.sk-estimator:hover label.sk-toggleable__label-arrow:before {color: black;}#sk-container-id-1 div.sk-toggleable__content {max-height: 0;max-width: 0;overflow: hidden;text-align: left;background-color: #f0f8ff;}#sk-container-id-1 div.sk-toggleable__content pre {margin: 0.2em;color: black;border-radius: 0.25em;background-color: #f0f8ff;}#sk-container-id-1 input.sk-toggleable__control:checked~div.sk-toggleable__content {max-height: 200px;max-width: 100%;overflow: auto;}#sk-container-id-1 input.sk-toggleable__control:checked~label.sk-toggleable__label-arrow:before {content: \"▾\";}#sk-container-id-1 div.sk-estimator input.sk-toggleable__control:checked~label.sk-toggleable__label {background-color: #d4ebff;}#sk-container-id-1 div.sk-label input.sk-toggleable__control:checked~label.sk-toggleable__label {background-color: #d4ebff;}#sk-container-id-1 input.sk-hidden--visually {border: 0;clip: rect(1px 1px 1px 1px);clip: rect(1px, 1px, 1px, 1px);height: 1px;margin: -1px;overflow: hidden;padding: 0;position: absolute;width: 1px;}#sk-container-id-1 div.sk-estimator {font-family: monospace;background-color: #f0f8ff;border: 1px dotted black;border-radius: 0.25em;box-sizing: border-box;margin-bottom: 0.5em;}#sk-container-id-1 div.sk-estimator:hover {background-color: #d4ebff;}#sk-container-id-1 div.sk-parallel-item::after {content: \"\";width: 100%;border-bottom: 1px solid gray;flex-grow: 1;}#sk-container-id-1 div.sk-label:hover label.sk-toggleable__label {background-color: #d4ebff;}#sk-container-id-1 div.sk-serial::before {content: \"\";position: absolute;border-left: 1px solid gray;box-sizing: border-box;top: 0;bottom: 0;left: 50%;z-index: 0;}#sk-container-id-1 div.sk-serial {display: flex;flex-direction: column;align-items: center;background-color: white;padding-right: 0.2em;padding-left: 0.2em;position: relative;}#sk-container-id-1 div.sk-item {position: relative;z-index: 1;}#sk-container-id-1 div.sk-parallel {display: flex;align-items: stretch;justify-content: center;background-color: white;position: relative;}#sk-container-id-1 div.sk-item::before, #sk-container-id-1 div.sk-parallel-item::before {content: \"\";position: absolute;border-left: 1px solid gray;box-sizing: border-box;top: 0;bottom: 0;left: 50%;z-index: -1;}#sk-container-id-1 div.sk-parallel-item {display: flex;flex-direction: column;z-index: 1;position: relative;background-color: white;}#sk-container-id-1 div.sk-parallel-item:first-child::after {align-self: flex-end;width: 50%;}#sk-container-id-1 div.sk-parallel-item:last-child::after {align-self: flex-start;width: 50%;}#sk-container-id-1 div.sk-parallel-item:only-child::after {width: 0;}#sk-container-id-1 div.sk-dashed-wrapped {border: 1px dashed gray;margin: 0 0.4em 0.5em 0.4em;box-sizing: border-box;padding-bottom: 0.4em;background-color: white;}#sk-container-id-1 div.sk-label label {font-family: monospace;font-weight: bold;display: inline-block;line-height: 1.2em;}#sk-container-id-1 div.sk-label-container {text-align: center;}#sk-container-id-1 div.sk-container {/* jupyter's `normalize.less` sets `[hidden] { display: none; }` but bootstrap.min.css set `[hidden] { display: none !important; }` so we also need the `!important` here to be able to override the default hidden behavior on the sphinx rendered scikit-learn.org. See: https://github.com/scikit-learn/scikit-learn/issues/21755 */display: inline-block !important;position: relative;}#sk-container-id-1 div.sk-text-repr-fallback {display: none;}</style><div id=\"sk-container-id-1\" class=\"sk-top-container\"><div class=\"sk-text-repr-fallback\"><pre>Pipeline(steps=[(&#x27;preprocessor&#x27;,\n",
       "                 ColumnTransformer(transformers=[(&#x27;num&#x27;, StandardScaler(),\n",
       "                                                  Index([&#x27;Gender&#x27;, &#x27;Age&#x27;, &#x27;Height&#x27;, &#x27;Weight&#x27;, &#x27;FCVC&#x27;, &#x27;NCP&#x27;, &#x27;CAEC&#x27;, &#x27;CH2O&#x27;,\n",
       "       &#x27;FAF&#x27;, &#x27;TUE&#x27;, &#x27;CALC&#x27;, &#x27;MTRANS&#x27;, &#x27;BMI&#x27;],\n",
       "      dtype=&#x27;object&#x27;)),\n",
       "                                                 (&#x27;cat&#x27;, OneHotEncoder(),\n",
       "                                                  [&#x27;family_history_with_overweight&#x27;,\n",
       "                                                   &#x27;FAVC&#x27;, &#x27;SMOKE&#x27;, &#x27;SCC&#x27;])])),\n",
       "                (&#x27;classifier&#x27;,\n",
       "                 XGBClassifier(base_score=None, booster=None, cal...\n",
       "                               feature_types=None, gamma=None, grow_policy=None,\n",
       "                               importance_type=None,\n",
       "                               interaction_constraints=None, learning_rate=0.03,\n",
       "                               max_bin=None, max_cat_threshold=None,\n",
       "                               max_cat_to_onehot=None, max_delta_step=None,\n",
       "                               max_depth=4, max_leaves=None,\n",
       "                               min_child_weight=None, missing=nan,\n",
       "                               monotone_constraints=None, multi_strategy=None,\n",
       "                               n_estimators=900, n_jobs=None,\n",
       "                               num_parallel_tree=None,\n",
       "                               objective=&#x27;multi:softprob&#x27;, ...))])</pre><b>In a Jupyter environment, please rerun this cell to show the HTML representation or trust the notebook. <br />On GitHub, the HTML representation is unable to render, please try loading this page with nbviewer.org.</b></div><div class=\"sk-container\" hidden><div class=\"sk-item sk-dashed-wrapped\"><div class=\"sk-label-container\"><div class=\"sk-label sk-toggleable\"><input class=\"sk-toggleable__control sk-hidden--visually\" id=\"sk-estimator-id-1\" type=\"checkbox\" ><label for=\"sk-estimator-id-1\" class=\"sk-toggleable__label sk-toggleable__label-arrow\">Pipeline</label><div class=\"sk-toggleable__content\"><pre>Pipeline(steps=[(&#x27;preprocessor&#x27;,\n",
       "                 ColumnTransformer(transformers=[(&#x27;num&#x27;, StandardScaler(),\n",
       "                                                  Index([&#x27;Gender&#x27;, &#x27;Age&#x27;, &#x27;Height&#x27;, &#x27;Weight&#x27;, &#x27;FCVC&#x27;, &#x27;NCP&#x27;, &#x27;CAEC&#x27;, &#x27;CH2O&#x27;,\n",
       "       &#x27;FAF&#x27;, &#x27;TUE&#x27;, &#x27;CALC&#x27;, &#x27;MTRANS&#x27;, &#x27;BMI&#x27;],\n",
       "      dtype=&#x27;object&#x27;)),\n",
       "                                                 (&#x27;cat&#x27;, OneHotEncoder(),\n",
       "                                                  [&#x27;family_history_with_overweight&#x27;,\n",
       "                                                   &#x27;FAVC&#x27;, &#x27;SMOKE&#x27;, &#x27;SCC&#x27;])])),\n",
       "                (&#x27;classifier&#x27;,\n",
       "                 XGBClassifier(base_score=None, booster=None, cal...\n",
       "                               feature_types=None, gamma=None, grow_policy=None,\n",
       "                               importance_type=None,\n",
       "                               interaction_constraints=None, learning_rate=0.03,\n",
       "                               max_bin=None, max_cat_threshold=None,\n",
       "                               max_cat_to_onehot=None, max_delta_step=None,\n",
       "                               max_depth=4, max_leaves=None,\n",
       "                               min_child_weight=None, missing=nan,\n",
       "                               monotone_constraints=None, multi_strategy=None,\n",
       "                               n_estimators=900, n_jobs=None,\n",
       "                               num_parallel_tree=None,\n",
       "                               objective=&#x27;multi:softprob&#x27;, ...))])</pre></div></div></div><div class=\"sk-serial\"><div class=\"sk-item sk-dashed-wrapped\"><div class=\"sk-label-container\"><div class=\"sk-label sk-toggleable\"><input class=\"sk-toggleable__control sk-hidden--visually\" id=\"sk-estimator-id-2\" type=\"checkbox\" ><label for=\"sk-estimator-id-2\" class=\"sk-toggleable__label sk-toggleable__label-arrow\">preprocessor: ColumnTransformer</label><div class=\"sk-toggleable__content\"><pre>ColumnTransformer(transformers=[(&#x27;num&#x27;, StandardScaler(),\n",
       "                                 Index([&#x27;Gender&#x27;, &#x27;Age&#x27;, &#x27;Height&#x27;, &#x27;Weight&#x27;, &#x27;FCVC&#x27;, &#x27;NCP&#x27;, &#x27;CAEC&#x27;, &#x27;CH2O&#x27;,\n",
       "       &#x27;FAF&#x27;, &#x27;TUE&#x27;, &#x27;CALC&#x27;, &#x27;MTRANS&#x27;, &#x27;BMI&#x27;],\n",
       "      dtype=&#x27;object&#x27;)),\n",
       "                                (&#x27;cat&#x27;, OneHotEncoder(),\n",
       "                                 [&#x27;family_history_with_overweight&#x27;, &#x27;FAVC&#x27;,\n",
       "                                  &#x27;SMOKE&#x27;, &#x27;SCC&#x27;])])</pre></div></div></div><div class=\"sk-parallel\"><div class=\"sk-parallel-item\"><div class=\"sk-item\"><div class=\"sk-label-container\"><div class=\"sk-label sk-toggleable\"><input class=\"sk-toggleable__control sk-hidden--visually\" id=\"sk-estimator-id-3\" type=\"checkbox\" ><label for=\"sk-estimator-id-3\" class=\"sk-toggleable__label sk-toggleable__label-arrow\">num</label><div class=\"sk-toggleable__content\"><pre>Index([&#x27;Gender&#x27;, &#x27;Age&#x27;, &#x27;Height&#x27;, &#x27;Weight&#x27;, &#x27;FCVC&#x27;, &#x27;NCP&#x27;, &#x27;CAEC&#x27;, &#x27;CH2O&#x27;,\n",
       "       &#x27;FAF&#x27;, &#x27;TUE&#x27;, &#x27;CALC&#x27;, &#x27;MTRANS&#x27;, &#x27;BMI&#x27;],\n",
       "      dtype=&#x27;object&#x27;)</pre></div></div></div><div class=\"sk-serial\"><div class=\"sk-item\"><div class=\"sk-estimator sk-toggleable\"><input class=\"sk-toggleable__control sk-hidden--visually\" id=\"sk-estimator-id-4\" type=\"checkbox\" ><label for=\"sk-estimator-id-4\" class=\"sk-toggleable__label sk-toggleable__label-arrow\">StandardScaler</label><div class=\"sk-toggleable__content\"><pre>StandardScaler()</pre></div></div></div></div></div></div><div class=\"sk-parallel-item\"><div class=\"sk-item\"><div class=\"sk-label-container\"><div class=\"sk-label sk-toggleable\"><input class=\"sk-toggleable__control sk-hidden--visually\" id=\"sk-estimator-id-5\" type=\"checkbox\" ><label for=\"sk-estimator-id-5\" class=\"sk-toggleable__label sk-toggleable__label-arrow\">cat</label><div class=\"sk-toggleable__content\"><pre>[&#x27;family_history_with_overweight&#x27;, &#x27;FAVC&#x27;, &#x27;SMOKE&#x27;, &#x27;SCC&#x27;]</pre></div></div></div><div class=\"sk-serial\"><div class=\"sk-item\"><div class=\"sk-estimator sk-toggleable\"><input class=\"sk-toggleable__control sk-hidden--visually\" id=\"sk-estimator-id-6\" type=\"checkbox\" ><label for=\"sk-estimator-id-6\" class=\"sk-toggleable__label sk-toggleable__label-arrow\">OneHotEncoder</label><div class=\"sk-toggleable__content\"><pre>OneHotEncoder()</pre></div></div></div></div></div></div></div></div><div class=\"sk-item\"><div class=\"sk-estimator sk-toggleable\"><input class=\"sk-toggleable__control sk-hidden--visually\" id=\"sk-estimator-id-7\" type=\"checkbox\" ><label for=\"sk-estimator-id-7\" class=\"sk-toggleable__label sk-toggleable__label-arrow\">XGBClassifier</label><div class=\"sk-toggleable__content\"><pre>XGBClassifier(base_score=None, booster=None, callbacks=None,\n",
       "              colsample_bylevel=None, colsample_bynode=None,\n",
       "              colsample_bytree=0.5, device=None, early_stopping_rounds=None,\n",
       "              enable_categorical=False, eval_metric=&#x27;mlogloss&#x27;,\n",
       "              feature_types=None, gamma=None, grow_policy=None,\n",
       "              importance_type=None, interaction_constraints=None,\n",
       "              learning_rate=0.03, max_bin=None, max_cat_threshold=None,\n",
       "              max_cat_to_onehot=None, max_delta_step=None, max_depth=4,\n",
       "              max_leaves=None, min_child_weight=None, missing=nan,\n",
       "              monotone_constraints=None, multi_strategy=None, n_estimators=900,\n",
       "              n_jobs=None, num_parallel_tree=None, objective=&#x27;multi:softprob&#x27;, ...)</pre></div></div></div></div></div></div></div>"
      ],
      "text/plain": [
       "Pipeline(steps=[('preprocessor',\n",
       "                 ColumnTransformer(transformers=[('num', StandardScaler(),\n",
       "                                                  Index(['Gender', 'Age', 'Height', 'Weight', 'FCVC', 'NCP', 'CAEC', 'CH2O',\n",
       "       'FAF', 'TUE', 'CALC', 'MTRANS', 'BMI'],\n",
       "      dtype='object')),\n",
       "                                                 ('cat', OneHotEncoder(),\n",
       "                                                  ['family_history_with_overweight',\n",
       "                                                   'FAVC', 'SMOKE', 'SCC'])])),\n",
       "                ('classifier',\n",
       "                 XGBClassifier(base_score=None, booster=None, cal...\n",
       "                               feature_types=None, gamma=None, grow_policy=None,\n",
       "                               importance_type=None,\n",
       "                               interaction_constraints=None, learning_rate=0.03,\n",
       "                               max_bin=None, max_cat_threshold=None,\n",
       "                               max_cat_to_onehot=None, max_delta_step=None,\n",
       "                               max_depth=4, max_leaves=None,\n",
       "                               min_child_weight=None, missing=nan,\n",
       "                               monotone_constraints=None, multi_strategy=None,\n",
       "                               n_estimators=900, n_jobs=None,\n",
       "                               num_parallel_tree=None,\n",
       "                               objective='multi:softprob', ...))])"
      ]
     },
     "execution_count": 10,
     "metadata": {},
     "output_type": "execute_result"
    }
   ],
   "source": [
    "pipeline.fit(X_train, y_train_encoded)"
   ]
  },
  {
   "cell_type": "code",
   "execution_count": 11,
   "id": "c3a10b83",
   "metadata": {
    "execution": {
     "iopub.execute_input": "2024-02-27T09:12:53.152166Z",
     "iopub.status.busy": "2024-02-27T09:12:53.151683Z",
     "iopub.status.idle": "2024-02-27T09:12:53.159422Z",
     "shell.execute_reply": "2024-02-27T09:12:53.158156Z"
    },
    "papermill": {
     "duration": 0.020996,
     "end_time": "2024-02-27T09:12:53.162468",
     "exception": false,
     "start_time": "2024-02-27T09:12:53.141472",
     "status": "completed"
    },
    "tags": []
   },
   "outputs": [],
   "source": [
    "# StratifiedKFold 설정\n",
    "cv = StratifiedKFold(n_splits=5, shuffle=True, random_state=42)"
   ]
  },
  {
   "cell_type": "code",
   "execution_count": 12,
   "id": "9641806f",
   "metadata": {
    "execution": {
     "iopub.execute_input": "2024-02-27T09:12:53.182351Z",
     "iopub.status.busy": "2024-02-27T09:12:53.181934Z",
     "iopub.status.idle": "2024-02-27T09:13:43.159955Z",
     "shell.execute_reply": "2024-02-27T09:13:43.158554Z"
    },
    "papermill": {
     "duration": 49.991708,
     "end_time": "2024-02-27T09:13:43.163064",
     "exception": false,
     "start_time": "2024-02-27T09:12:53.171356",
     "status": "completed"
    },
    "tags": []
   },
   "outputs": [],
   "source": [
    "# 교차 검증 수행\n",
    "scores = cross_val_score(pipeline, X_train, y_train_encoded, cv=cv, scoring='accuracy')"
   ]
  },
  {
   "cell_type": "code",
   "execution_count": 13,
   "id": "430cdab5",
   "metadata": {
    "execution": {
     "iopub.execute_input": "2024-02-27T09:13:43.183363Z",
     "iopub.status.busy": "2024-02-27T09:13:43.182929Z",
     "iopub.status.idle": "2024-02-27T09:13:43.190171Z",
     "shell.execute_reply": "2024-02-27T09:13:43.188792Z"
    },
    "papermill": {
     "duration": 0.02021,
     "end_time": "2024-02-27T09:13:43.192888",
     "exception": false,
     "start_time": "2024-02-27T09:13:43.172678",
     "status": "completed"
    },
    "tags": []
   },
   "outputs": [
    {
     "name": "stdout",
     "output_type": "stream",
     "text": [
      "교차 검증 정확도: [0.90698374 0.90213791 0.91177356 0.91117133 0.90876242]\n",
      "평균 정확도: 0.9081657944146503\n"
     ]
    }
   ],
   "source": [
    "print(\"교차 검증 정확도:\", scores)\n",
    "print(\"평균 정확도:\", scores.mean())"
   ]
  },
  {
   "cell_type": "code",
   "execution_count": 14,
   "id": "47fa46f0",
   "metadata": {
    "execution": {
     "iopub.execute_input": "2024-02-27T09:13:43.214887Z",
     "iopub.status.busy": "2024-02-27T09:13:43.214460Z",
     "iopub.status.idle": "2024-02-27T09:13:43.442645Z",
     "shell.execute_reply": "2024-02-27T09:13:43.441144Z"
    },
    "papermill": {
     "duration": 0.243491,
     "end_time": "2024-02-27T09:13:43.445410",
     "exception": false,
     "start_time": "2024-02-27T09:13:43.201919",
     "status": "completed"
    },
    "tags": []
   },
   "outputs": [
    {
     "name": "stdout",
     "output_type": "stream",
     "text": [
      "정확도: 0.9075144508670521\n",
      "재현율: 0.8972691524116877\n",
      "정밀도: 0.8979367720980559\n",
      "F1 점수: 0.8975439667399768\n"
     ]
    }
   ],
   "source": [
    "y_pred = pipeline.predict(X_test)\n",
    "\n",
    "accuracy = accuracy_score(y_test_encoded, y_pred)\n",
    "recall = recall_score(y_test_encoded, y_pred, average='macro')\n",
    "precision = precision_score(y_test_encoded, y_pred, average='macro')\n",
    "f1 = f1_score(y_test_encoded, y_pred, average='macro')\n",
    "\n",
    "print(f'정확도: {accuracy}')\n",
    "print(f'재현율: {recall}')\n",
    "print(f'정밀도: {precision}')\n",
    "print(f'F1 점수: {f1}')"
   ]
  },
  {
   "cell_type": "code",
   "execution_count": 15,
   "id": "1176c4af",
   "metadata": {
    "execution": {
     "iopub.execute_input": "2024-02-27T09:13:43.465839Z",
     "iopub.status.busy": "2024-02-27T09:13:43.465226Z",
     "iopub.status.idle": "2024-02-27T09:13:43.473970Z",
     "shell.execute_reply": "2024-02-27T09:13:43.472711Z"
    },
    "papermill": {
     "duration": 0.022244,
     "end_time": "2024-02-27T09:13:43.476691",
     "exception": false,
     "start_time": "2024-02-27T09:13:43.454447",
     "status": "completed"
    },
    "tags": []
   },
   "outputs": [
    {
     "data": {
      "text/plain": [
       "{0: 'Insufficient_Weight',\n",
       " 1: 'Normal_Weight',\n",
       " 2: 'Overweight_Level_I',\n",
       " 3: 'Overweight_Level_II',\n",
       " 4: 'Obesity_Type_I',\n",
       " 5: 'Obesity_Type_II',\n",
       " 6: 'Obesity_Type_III'}"
      ]
     },
     "execution_count": 15,
     "metadata": {},
     "output_type": "execute_result"
    }
   ],
   "source": [
    "# 역매핑을 위한 딕셔너리 생성\n",
    "inverse_nobeyesdad_mapping = {v: k for k, v in nobeyesdad_mapping.items()}\n",
    "inverse_nobeyesdad_mapping"
   ]
  },
  {
   "cell_type": "code",
   "execution_count": 16,
   "id": "6885f5b8",
   "metadata": {
    "execution": {
     "iopub.execute_input": "2024-02-27T09:13:43.499688Z",
     "iopub.status.busy": "2024-02-27T09:13:43.498851Z",
     "iopub.status.idle": "2024-02-27T09:13:44.146899Z",
     "shell.execute_reply": "2024-02-27T09:13:44.145849Z"
    },
    "papermill": {
     "duration": 0.662485,
     "end_time": "2024-02-27T09:13:44.150268",
     "exception": false,
     "start_time": "2024-02-27T09:13:43.487783",
     "status": "completed"
    },
    "tags": []
   },
   "outputs": [],
   "source": [
    "preds = pipeline.predict(test)"
   ]
  },
  {
   "cell_type": "code",
   "execution_count": 17,
   "id": "406ed94e",
   "metadata": {
    "execution": {
     "iopub.execute_input": "2024-02-27T09:13:44.171849Z",
     "iopub.status.busy": "2024-02-27T09:13:44.171387Z",
     "iopub.status.idle": "2024-02-27T09:13:44.181474Z",
     "shell.execute_reply": "2024-02-27T09:13:44.180451Z"
    },
    "papermill": {
     "duration": 0.023193,
     "end_time": "2024-02-27T09:13:44.183748",
     "exception": false,
     "start_time": "2024-02-27T09:13:44.160555",
     "status": "completed"
    },
    "tags": []
   },
   "outputs": [],
   "source": [
    "# 예측된 숫자형 레이블을 문자열 레이블로 변환\n",
    "test_preds_labels = [inverse_nobeyesdad_mapping[pred] for pred in preds]"
   ]
  },
  {
   "cell_type": "code",
   "execution_count": 18,
   "id": "86f7a700",
   "metadata": {
    "execution": {
     "iopub.execute_input": "2024-02-27T09:13:44.205130Z",
     "iopub.status.busy": "2024-02-27T09:13:44.204680Z",
     "iopub.status.idle": "2024-02-27T09:13:44.246627Z",
     "shell.execute_reply": "2024-02-27T09:13:44.245212Z"
    },
    "papermill": {
     "duration": 0.056552,
     "end_time": "2024-02-27T09:13:44.249591",
     "exception": false,
     "start_time": "2024-02-27T09:13:44.193039",
     "status": "completed"
    },
    "tags": []
   },
   "outputs": [],
   "source": [
    "submission['NObeyesdad'] =test_preds_labels\n",
    "submission.to_csv(\"submission_ver_3.csv\", index=False)"
   ]
  },
  {
   "cell_type": "code",
   "execution_count": null,
   "id": "011a8f33",
   "metadata": {
    "papermill": {
     "duration": 0.008797,
     "end_time": "2024-02-27T09:13:44.267927",
     "exception": false,
     "start_time": "2024-02-27T09:13:44.259130",
     "status": "completed"
    },
    "tags": []
   },
   "outputs": [],
   "source": []
  }
 ],
 "metadata": {
  "kaggle": {
   "accelerator": "none",
   "dataSources": [
    {
     "databundleVersionId": 7609535,
     "sourceId": 68479,
     "sourceType": "competition"
    }
   ],
   "dockerImageVersionId": 30646,
   "isGpuEnabled": false,
   "isInternetEnabled": true,
   "language": "python",
   "sourceType": "notebook"
  },
  "kernelspec": {
   "display_name": "Python 3",
   "language": "python",
   "name": "python3"
  },
  "language_info": {
   "codemirror_mode": {
    "name": "ipython",
    "version": 3
   },
   "file_extension": ".py",
   "mimetype": "text/x-python",
   "name": "python",
   "nbconvert_exporter": "python",
   "pygments_lexer": "ipython3",
   "version": "3.10.13"
  },
  "papermill": {
   "default_parameters": {},
   "duration": 72.328475,
   "end_time": "2024-02-27T09:13:44.999748",
   "environment_variables": {},
   "exception": null,
   "input_path": "__notebook__.ipynb",
   "output_path": "__notebook__.ipynb",
   "parameters": {},
   "start_time": "2024-02-27T09:12:32.671273",
   "version": "2.5.0"
  }
 },
 "nbformat": 4,
 "nbformat_minor": 5
}
