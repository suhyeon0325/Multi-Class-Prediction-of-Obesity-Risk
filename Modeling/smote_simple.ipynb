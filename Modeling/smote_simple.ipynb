{
 "cells": [
  {
   "cell_type": "code",
   "execution_count": 1,
   "id": "be232aa8-5f0a-4e5a-bfdd-aa49d675e70e",
   "metadata": {},
   "outputs": [],
   "source": [
    "import warnings\n",
    "warnings.filterwarnings(\"ignore\")\n",
    "\n",
    "import numpy as np\n",
    "import pandas as pd\n",
    "import matplotlib.pyplot as plt\n",
    "import seaborn as sns\n",
    "from sklearn.pipeline import make_pipeline, Pipeline\n",
    "from sklearn.preprocessing import StandardScaler, MinMaxScaler\n",
    "from category_encoders import OneHotEncoder, CatBoostEncoder, MEstimateEncoder\n",
    "from sklearn.model_selection import StratifiedGroupKFold, train_test_split\n",
    "\n",
    "\n",
    "from xgboost import XGBClassifier\n",
    "from catboost import CatBoostClassifier\n",
    "from lightgbm import LGBMClassifier\n",
    "from sklearn.ensemble import RandomForestClassifier\n",
    "from sklearn.linear_model import RidgeClassifier, LogisticRegression\n",
    "\n",
    "from sklearn import set_config\n",
    "import os\n",
    "from sklearn.preprocessing import FunctionTransformer, LabelEncoder\n",
    "from sklearn.model_selection import StratifiedKFold\n",
    "import optuna\n",
    "from sklearn.compose import ColumnTransformer\n",
    "from prettytable import PrettyTable\n",
    "\n",
    "from sklearn.compose import make_column_transformer\n",
    "from sklearn.base import clone\n",
    "from sklearn.base import BaseEstimator, TransformerMixin\n",
    "from sklearn.metrics import accuracy_score\n",
    "import optuna\n",
    "from sklearn.metrics import confusion_matrix, ConfusionMatrixDisplay"
   ]
  },
  {
   "cell_type": "markdown",
   "id": "442a272d-4e27-4ac2-aa5e-6a26527c0460",
   "metadata": {},
   "source": [
    "## load data"
   ]
  },
  {
   "cell_type": "code",
   "execution_count": 2,
   "id": "85601adc-2f0d-4b41-9904-f16594dfa6cd",
   "metadata": {},
   "outputs": [
    {
     "data": {
      "text/plain": [
       "((50001, 18), (20758, 18), (13840, 17), (13840, 17), (2111, 17), (13840, 2))"
      ]
     },
     "execution_count": 2,
     "metadata": {},
     "output_type": "execute_result"
    }
   ],
   "source": [
    "data = pd.read_csv(\"data/data.csv\")\n",
    "train = pd.read_csv(\"data/train.csv\")\n",
    "test = pd.read_csv(\"data/test.csv\")\n",
    "raw = pd.read_csv(\"data/ObesityDataSet_raw_and_data_sinthetic.csv\")\n",
    "submission = pd.read_csv(\"data/sample_submission.csv\")\n",
    "\n",
    "data.shape, train.shape, test.shape, test.shape, raw.shape, submission.shape"
   ]
  },
  {
   "cell_type": "markdown",
   "id": "0ee2e279-c421-4150-b97b-a1e4db20a6d0",
   "metadata": {},
   "source": [
    "## bmi 생성"
   ]
  },
  {
   "cell_type": "code",
   "execution_count": 3,
   "id": "e579ea0e-db13-4622-8295-096b7920bc14",
   "metadata": {},
   "outputs": [],
   "source": [
    "train['BMI'] = train['Weight'] / (train['Height']**2)\n",
    "test['BMI'] = test['Weight'] / (test['Height']**2)\n",
    "data['BMI'] = data['Weight'] / (data['Height']**2)\n",
    "raw['BMI'] = raw['Weight'] / (raw['Height']**2)"
   ]
  },
  {
   "cell_type": "code",
   "execution_count": 4,
   "id": "efb4deae-7a09-4eaf-aa09-304a73449e9a",
   "metadata": {},
   "outputs": [],
   "source": [
    "train.drop(\"id\", axis=1, inplace=True)\n",
    "test.drop(\"id\", axis=1, inplace=True)"
   ]
  },
  {
   "cell_type": "code",
   "execution_count": 5,
   "id": "58f40c35-3ba4-4377-8748-44eecabb73ec",
   "metadata": {},
   "outputs": [
    {
     "name": "stdout",
     "output_type": "stream",
     "text": [
      "Gender\n",
      "family_history_with_overweight\n",
      "FAVC\n",
      "CAEC\n",
      "SMOKE\n",
      "SCC\n",
      "CALC\n",
      "MTRANS\n"
     ]
    }
   ],
   "source": [
    "categories = train.columns[(train.dtypes==\"object\") & (train.columns != \"NObeyesdad\")]\n",
    "for cat in categories:\n",
    "    le = LabelEncoder()\n",
    "    print(cat)\n",
    "    if train[cat].dtypes == \"object\":\n",
    "        le = le.fit(train[cat])\n",
    "        train[cat] = le.transform(train[cat])"
   ]
  },
  {
   "cell_type": "code",
   "execution_count": 6,
   "id": "4c347574-124a-48cc-b74a-416f58e5b673",
   "metadata": {},
   "outputs": [
    {
     "name": "stdout",
     "output_type": "stream",
     "text": [
      "Gender\n",
      "family_history_with_overweight\n",
      "FAVC\n",
      "CAEC\n",
      "SMOKE\n",
      "SCC\n",
      "CALC\n",
      "MTRANS\n"
     ]
    }
   ],
   "source": [
    "rcats = raw.columns[(raw.dtypes==\"object\") & (raw.columns != \"NObeyesdad\")]\n",
    "for rcat in rcats:\n",
    "    le = LabelEncoder()\n",
    "    print(rcat)\n",
    "    if raw[rcat].dtypes == \"object\":\n",
    "        le = le.fit(raw[rcat])\n",
    "        raw[rcat] = le.transform(raw[rcat])"
   ]
  },
  {
   "cell_type": "code",
   "execution_count": 7,
   "id": "b523aa3f-40ba-4c49-b675-653fddbdb98e",
   "metadata": {},
   "outputs": [
    {
     "name": "stdout",
     "output_type": "stream",
     "text": [
      "Gender\n",
      "family_history_with_overweight\n",
      "FAVC\n",
      "CAEC\n",
      "SMOKE\n",
      "SCC\n",
      "CALC\n",
      "MTRANS\n"
     ]
    }
   ],
   "source": [
    "tcats = test.columns[test.dtypes==\"object\"]\n",
    "for tcat in tcats:\n",
    "    le = LabelEncoder()\n",
    "    print(tcat)\n",
    "    if test[tcat].dtypes == \"object\":\n",
    "        le = le.fit(test[tcat])\n",
    "        test[tcat] = le.transform(test[tcat])"
   ]
  },
  {
   "cell_type": "code",
   "execution_count": 8,
   "id": "d22a614b-b601-4645-9769-dc6a17b3c98b",
   "metadata": {},
   "outputs": [
    {
     "data": {
      "text/html": [
       "<div>\n",
       "<style scoped>\n",
       "    .dataframe tbody tr th:only-of-type {\n",
       "        vertical-align: middle;\n",
       "    }\n",
       "\n",
       "    .dataframe tbody tr th {\n",
       "        vertical-align: top;\n",
       "    }\n",
       "\n",
       "    .dataframe thead th {\n",
       "        text-align: right;\n",
       "    }\n",
       "</style>\n",
       "<table border=\"1\" class=\"dataframe\">\n",
       "  <thead>\n",
       "    <tr style=\"text-align: right;\">\n",
       "      <th></th>\n",
       "      <th>Gender</th>\n",
       "      <th>Age</th>\n",
       "      <th>Height</th>\n",
       "      <th>Weight</th>\n",
       "      <th>family_history_with_overweight</th>\n",
       "      <th>FAVC</th>\n",
       "      <th>FCVC</th>\n",
       "      <th>NCP</th>\n",
       "      <th>CAEC</th>\n",
       "      <th>SMOKE</th>\n",
       "      <th>CH2O</th>\n",
       "      <th>SCC</th>\n",
       "      <th>FAF</th>\n",
       "      <th>TUE</th>\n",
       "      <th>CALC</th>\n",
       "      <th>MTRANS</th>\n",
       "      <th>NObeyesdad</th>\n",
       "      <th>BMI</th>\n",
       "    </tr>\n",
       "  </thead>\n",
       "  <tbody>\n",
       "    <tr>\n",
       "      <th>0</th>\n",
       "      <td>1</td>\n",
       "      <td>24.443011</td>\n",
       "      <td>1.699998</td>\n",
       "      <td>81.66995</td>\n",
       "      <td>1</td>\n",
       "      <td>1</td>\n",
       "      <td>2.0</td>\n",
       "      <td>2.983297</td>\n",
       "      <td>2</td>\n",
       "      <td>0</td>\n",
       "      <td>2.763573</td>\n",
       "      <td>0</td>\n",
       "      <td>0.0</td>\n",
       "      <td>0.976473</td>\n",
       "      <td>1</td>\n",
       "      <td>3</td>\n",
       "      <td>Overweight_Level_II</td>\n",
       "      <td>28.259565</td>\n",
       "    </tr>\n",
       "  </tbody>\n",
       "</table>\n",
       "</div>"
      ],
      "text/plain": [
       "   Gender        Age    Height    Weight  family_history_with_overweight  \\\n",
       "0       1  24.443011  1.699998  81.66995                               1   \n",
       "\n",
       "   FAVC  FCVC       NCP  CAEC  SMOKE      CH2O  SCC  FAF       TUE  CALC  \\\n",
       "0     1   2.0  2.983297     2      0  2.763573    0  0.0  0.976473     1   \n",
       "\n",
       "   MTRANS           NObeyesdad        BMI  \n",
       "0       3  Overweight_Level_II  28.259565  "
      ]
     },
     "execution_count": 8,
     "metadata": {},
     "output_type": "execute_result"
    }
   ],
   "source": [
    "train.head(1)"
   ]
  },
  {
   "cell_type": "code",
   "execution_count": 9,
   "id": "35d40318-446e-4fb6-8d8f-e1eaaeb392e1",
   "metadata": {},
   "outputs": [
    {
     "data": {
      "text/html": [
       "<div>\n",
       "<style scoped>\n",
       "    .dataframe tbody tr th:only-of-type {\n",
       "        vertical-align: middle;\n",
       "    }\n",
       "\n",
       "    .dataframe tbody tr th {\n",
       "        vertical-align: top;\n",
       "    }\n",
       "\n",
       "    .dataframe thead th {\n",
       "        text-align: right;\n",
       "    }\n",
       "</style>\n",
       "<table border=\"1\" class=\"dataframe\">\n",
       "  <thead>\n",
       "    <tr style=\"text-align: right;\">\n",
       "      <th></th>\n",
       "      <th>Gender</th>\n",
       "      <th>Age</th>\n",
       "      <th>Height</th>\n",
       "      <th>Weight</th>\n",
       "      <th>family_history_with_overweight</th>\n",
       "      <th>FAVC</th>\n",
       "      <th>FCVC</th>\n",
       "      <th>NCP</th>\n",
       "      <th>CAEC</th>\n",
       "      <th>SMOKE</th>\n",
       "      <th>CH2O</th>\n",
       "      <th>SCC</th>\n",
       "      <th>FAF</th>\n",
       "      <th>TUE</th>\n",
       "      <th>CALC</th>\n",
       "      <th>MTRANS</th>\n",
       "      <th>NObeyesdad</th>\n",
       "      <th>BMI</th>\n",
       "    </tr>\n",
       "  </thead>\n",
       "  <tbody>\n",
       "    <tr>\n",
       "      <th>0</th>\n",
       "      <td>0</td>\n",
       "      <td>21.0</td>\n",
       "      <td>1.62</td>\n",
       "      <td>64.0</td>\n",
       "      <td>1</td>\n",
       "      <td>0</td>\n",
       "      <td>2.0</td>\n",
       "      <td>3.0</td>\n",
       "      <td>2</td>\n",
       "      <td>0</td>\n",
       "      <td>2.0</td>\n",
       "      <td>0</td>\n",
       "      <td>0.0</td>\n",
       "      <td>1.0</td>\n",
       "      <td>3</td>\n",
       "      <td>3</td>\n",
       "      <td>Normal_Weight</td>\n",
       "      <td>24.386526</td>\n",
       "    </tr>\n",
       "  </tbody>\n",
       "</table>\n",
       "</div>"
      ],
      "text/plain": [
       "   Gender   Age  Height  Weight  family_history_with_overweight  FAVC  FCVC  \\\n",
       "0       0  21.0    1.62    64.0                               1     0   2.0   \n",
       "\n",
       "   NCP  CAEC  SMOKE  CH2O  SCC  FAF  TUE  CALC  MTRANS     NObeyesdad  \\\n",
       "0  3.0     2      0   2.0    0  0.0  1.0     3       3  Normal_Weight   \n",
       "\n",
       "         BMI  \n",
       "0  24.386526  "
      ]
     },
     "execution_count": 9,
     "metadata": {},
     "output_type": "execute_result"
    }
   ],
   "source": [
    "raw.head(1)"
   ]
  },
  {
   "cell_type": "code",
   "execution_count": 10,
   "id": "5e9a502e-a2cd-4695-ad65-15344c124c9c",
   "metadata": {},
   "outputs": [
    {
     "data": {
      "text/html": [
       "<div>\n",
       "<style scoped>\n",
       "    .dataframe tbody tr th:only-of-type {\n",
       "        vertical-align: middle;\n",
       "    }\n",
       "\n",
       "    .dataframe tbody tr th {\n",
       "        vertical-align: top;\n",
       "    }\n",
       "\n",
       "    .dataframe thead th {\n",
       "        text-align: right;\n",
       "    }\n",
       "</style>\n",
       "<table border=\"1\" class=\"dataframe\">\n",
       "  <thead>\n",
       "    <tr style=\"text-align: right;\">\n",
       "      <th></th>\n",
       "      <th>Gender</th>\n",
       "      <th>Age</th>\n",
       "      <th>Height</th>\n",
       "      <th>Weight</th>\n",
       "      <th>family_history_with_overweight</th>\n",
       "      <th>FAVC</th>\n",
       "      <th>FCVC</th>\n",
       "      <th>NCP</th>\n",
       "      <th>CAEC</th>\n",
       "      <th>SMOKE</th>\n",
       "      <th>CH2O</th>\n",
       "      <th>SCC</th>\n",
       "      <th>FAF</th>\n",
       "      <th>TUE</th>\n",
       "      <th>CALC</th>\n",
       "      <th>MTRANS</th>\n",
       "      <th>BMI</th>\n",
       "    </tr>\n",
       "  </thead>\n",
       "  <tbody>\n",
       "    <tr>\n",
       "      <th>0</th>\n",
       "      <td>1</td>\n",
       "      <td>26.899886</td>\n",
       "      <td>1.848294</td>\n",
       "      <td>120.644178</td>\n",
       "      <td>1</td>\n",
       "      <td>1</td>\n",
       "      <td>2.938616</td>\n",
       "      <td>3.0</td>\n",
       "      <td>2</td>\n",
       "      <td>0</td>\n",
       "      <td>2.825629</td>\n",
       "      <td>0</td>\n",
       "      <td>0.8554</td>\n",
       "      <td>0.0</td>\n",
       "      <td>2</td>\n",
       "      <td>3</td>\n",
       "      <td>35.315411</td>\n",
       "    </tr>\n",
       "  </tbody>\n",
       "</table>\n",
       "</div>"
      ],
      "text/plain": [
       "   Gender        Age    Height      Weight  family_history_with_overweight  \\\n",
       "0       1  26.899886  1.848294  120.644178                               1   \n",
       "\n",
       "   FAVC      FCVC  NCP  CAEC  SMOKE      CH2O  SCC     FAF  TUE  CALC  MTRANS  \\\n",
       "0     1  2.938616  3.0     2      0  2.825629    0  0.8554  0.0     2       3   \n",
       "\n",
       "         BMI  \n",
       "0  35.315411  "
      ]
     },
     "execution_count": 10,
     "metadata": {},
     "output_type": "execute_result"
    }
   ],
   "source": [
    "test.head(1)"
   ]
  },
  {
   "cell_type": "code",
   "execution_count": 11,
   "id": "03069ee5-058d-4fc4-a481-9e0fd3839af6",
   "metadata": {},
   "outputs": [],
   "source": [
    "data.drop(\"Unnamed: 0\", axis=1, inplace=True)"
   ]
  },
  {
   "cell_type": "code",
   "execution_count": 12,
   "id": "5c0bee3c-36c3-4b1d-87ed-62a9ceb35962",
   "metadata": {},
   "outputs": [
    {
     "data": {
      "text/html": [
       "<div>\n",
       "<style scoped>\n",
       "    .dataframe tbody tr th:only-of-type {\n",
       "        vertical-align: middle;\n",
       "    }\n",
       "\n",
       "    .dataframe tbody tr th {\n",
       "        vertical-align: top;\n",
       "    }\n",
       "\n",
       "    .dataframe thead th {\n",
       "        text-align: right;\n",
       "    }\n",
       "</style>\n",
       "<table border=\"1\" class=\"dataframe\">\n",
       "  <thead>\n",
       "    <tr style=\"text-align: right;\">\n",
       "      <th></th>\n",
       "      <th>Gender</th>\n",
       "      <th>Age</th>\n",
       "      <th>Height</th>\n",
       "      <th>Weight</th>\n",
       "      <th>family_history_with_overweight</th>\n",
       "      <th>FAVC</th>\n",
       "      <th>FCVC</th>\n",
       "      <th>NCP</th>\n",
       "      <th>CAEC</th>\n",
       "      <th>SMOKE</th>\n",
       "      <th>CH2O</th>\n",
       "      <th>SCC</th>\n",
       "      <th>FAF</th>\n",
       "      <th>TUE</th>\n",
       "      <th>CALC</th>\n",
       "      <th>MTRANS</th>\n",
       "      <th>NObeyesdad</th>\n",
       "      <th>BMI</th>\n",
       "    </tr>\n",
       "  </thead>\n",
       "  <tbody>\n",
       "    <tr>\n",
       "      <th>0</th>\n",
       "      <td>1</td>\n",
       "      <td>24.443011</td>\n",
       "      <td>1.699998</td>\n",
       "      <td>81.66995</td>\n",
       "      <td>1</td>\n",
       "      <td>1</td>\n",
       "      <td>2.0</td>\n",
       "      <td>2.983297</td>\n",
       "      <td>2</td>\n",
       "      <td>0</td>\n",
       "      <td>2.763573</td>\n",
       "      <td>0</td>\n",
       "      <td>0.0</td>\n",
       "      <td>0.976473</td>\n",
       "      <td>1</td>\n",
       "      <td>3</td>\n",
       "      <td>6</td>\n",
       "      <td>28.259565</td>\n",
       "    </tr>\n",
       "  </tbody>\n",
       "</table>\n",
       "</div>"
      ],
      "text/plain": [
       "   Gender        Age    Height    Weight  family_history_with_overweight  \\\n",
       "0       1  24.443011  1.699998  81.66995                               1   \n",
       "\n",
       "   FAVC  FCVC       NCP  CAEC  SMOKE      CH2O  SCC  FAF       TUE  CALC  \\\n",
       "0     1   2.0  2.983297     2      0  2.763573    0  0.0  0.976473     1   \n",
       "\n",
       "   MTRANS  NObeyesdad        BMI  \n",
       "0       3           6  28.259565  "
      ]
     },
     "execution_count": 12,
     "metadata": {},
     "output_type": "execute_result"
    }
   ],
   "source": [
    "data.head(1)"
   ]
  },
  {
   "cell_type": "code",
   "execution_count": 13,
   "id": "97204bb3-44d7-43dd-b4d4-3c3ee3e31276",
   "metadata": {},
   "outputs": [],
   "source": [
    "nobeyesdad_mapping = {'Insufficient_Weight': 0, \n",
    "                      'Normal_Weight': 1, \n",
    "                      'Obesity_Type_I': 2, \n",
    "                      'Obesity_Type_II': 3, \n",
    "                      'Obesity_Type_III': 4,\n",
    "                      'Overweight_Level_I': 5, \n",
    "                      'Overweight_Level_II': 6} \n",
    "\n",
    "\n",
    "train['NObeyesdad'] = train['NObeyesdad'].map(nobeyesdad_mapping)\n",
    "raw['NObeyesdad'] = raw['NObeyesdad'].map(nobeyesdad_mapping)"
   ]
  },
  {
   "cell_type": "code",
   "execution_count": 14,
   "id": "76bfe715-ab66-4d8f-9462-06b2d2b32d2b",
   "metadata": {},
   "outputs": [
    {
     "data": {
      "text/html": [
       "<div>\n",
       "<style scoped>\n",
       "    .dataframe tbody tr th:only-of-type {\n",
       "        vertical-align: middle;\n",
       "    }\n",
       "\n",
       "    .dataframe tbody tr th {\n",
       "        vertical-align: top;\n",
       "    }\n",
       "\n",
       "    .dataframe thead th {\n",
       "        text-align: right;\n",
       "    }\n",
       "</style>\n",
       "<table border=\"1\" class=\"dataframe\">\n",
       "  <thead>\n",
       "    <tr style=\"text-align: right;\">\n",
       "      <th></th>\n",
       "      <th>Gender</th>\n",
       "      <th>Age</th>\n",
       "      <th>Height</th>\n",
       "      <th>Weight</th>\n",
       "      <th>family_history_with_overweight</th>\n",
       "      <th>FAVC</th>\n",
       "      <th>FCVC</th>\n",
       "      <th>NCP</th>\n",
       "      <th>CAEC</th>\n",
       "      <th>SMOKE</th>\n",
       "      <th>CH2O</th>\n",
       "      <th>SCC</th>\n",
       "      <th>FAF</th>\n",
       "      <th>TUE</th>\n",
       "      <th>CALC</th>\n",
       "      <th>MTRANS</th>\n",
       "      <th>NObeyesdad</th>\n",
       "      <th>BMI</th>\n",
       "    </tr>\n",
       "  </thead>\n",
       "  <tbody>\n",
       "    <tr>\n",
       "      <th>0</th>\n",
       "      <td>1</td>\n",
       "      <td>24.443011</td>\n",
       "      <td>1.699998</td>\n",
       "      <td>81.66995</td>\n",
       "      <td>1</td>\n",
       "      <td>1</td>\n",
       "      <td>2.0</td>\n",
       "      <td>2.983297</td>\n",
       "      <td>2</td>\n",
       "      <td>0</td>\n",
       "      <td>2.763573</td>\n",
       "      <td>0</td>\n",
       "      <td>0.0</td>\n",
       "      <td>0.976473</td>\n",
       "      <td>1</td>\n",
       "      <td>3</td>\n",
       "      <td>6</td>\n",
       "      <td>28.259565</td>\n",
       "    </tr>\n",
       "  </tbody>\n",
       "</table>\n",
       "</div>"
      ],
      "text/plain": [
       "   Gender        Age    Height    Weight  family_history_with_overweight  \\\n",
       "0       1  24.443011  1.699998  81.66995                               1   \n",
       "\n",
       "   FAVC  FCVC       NCP  CAEC  SMOKE      CH2O  SCC  FAF       TUE  CALC  \\\n",
       "0     1   2.0  2.983297     2      0  2.763573    0  0.0  0.976473     1   \n",
       "\n",
       "   MTRANS  NObeyesdad        BMI  \n",
       "0       3           6  28.259565  "
      ]
     },
     "execution_count": 14,
     "metadata": {},
     "output_type": "execute_result"
    }
   ],
   "source": [
    "train.head(1)"
   ]
  },
  {
   "cell_type": "code",
   "execution_count": 15,
   "id": "f12e15ce-1235-45be-add3-971ba82ad841",
   "metadata": {},
   "outputs": [
    {
     "data": {
      "text/html": [
       "<div>\n",
       "<style scoped>\n",
       "    .dataframe tbody tr th:only-of-type {\n",
       "        vertical-align: middle;\n",
       "    }\n",
       "\n",
       "    .dataframe tbody tr th {\n",
       "        vertical-align: top;\n",
       "    }\n",
       "\n",
       "    .dataframe thead th {\n",
       "        text-align: right;\n",
       "    }\n",
       "</style>\n",
       "<table border=\"1\" class=\"dataframe\">\n",
       "  <thead>\n",
       "    <tr style=\"text-align: right;\">\n",
       "      <th></th>\n",
       "      <th>Gender</th>\n",
       "      <th>Age</th>\n",
       "      <th>Height</th>\n",
       "      <th>Weight</th>\n",
       "      <th>family_history_with_overweight</th>\n",
       "      <th>FAVC</th>\n",
       "      <th>FCVC</th>\n",
       "      <th>NCP</th>\n",
       "      <th>CAEC</th>\n",
       "      <th>SMOKE</th>\n",
       "      <th>CH2O</th>\n",
       "      <th>SCC</th>\n",
       "      <th>FAF</th>\n",
       "      <th>TUE</th>\n",
       "      <th>CALC</th>\n",
       "      <th>MTRANS</th>\n",
       "      <th>NObeyesdad</th>\n",
       "      <th>BMI</th>\n",
       "    </tr>\n",
       "  </thead>\n",
       "  <tbody>\n",
       "    <tr>\n",
       "      <th>0</th>\n",
       "      <td>0</td>\n",
       "      <td>21.0</td>\n",
       "      <td>1.62</td>\n",
       "      <td>64.0</td>\n",
       "      <td>1</td>\n",
       "      <td>0</td>\n",
       "      <td>2.0</td>\n",
       "      <td>3.0</td>\n",
       "      <td>2</td>\n",
       "      <td>0</td>\n",
       "      <td>2.0</td>\n",
       "      <td>0</td>\n",
       "      <td>0.0</td>\n",
       "      <td>1.0</td>\n",
       "      <td>3</td>\n",
       "      <td>3</td>\n",
       "      <td>1</td>\n",
       "      <td>24.386526</td>\n",
       "    </tr>\n",
       "  </tbody>\n",
       "</table>\n",
       "</div>"
      ],
      "text/plain": [
       "   Gender   Age  Height  Weight  family_history_with_overweight  FAVC  FCVC  \\\n",
       "0       0  21.0    1.62    64.0                               1     0   2.0   \n",
       "\n",
       "   NCP  CAEC  SMOKE  CH2O  SCC  FAF  TUE  CALC  MTRANS  NObeyesdad        BMI  \n",
       "0  3.0     2      0   2.0    0  0.0  1.0     3       3           1  24.386526  "
      ]
     },
     "execution_count": 15,
     "metadata": {},
     "output_type": "execute_result"
    }
   ],
   "source": [
    "raw.head(1)"
   ]
  },
  {
   "cell_type": "markdown",
   "id": "424dc56f-1b51-47e0-8041-26a1eb7256fe",
   "metadata": {},
   "source": [
    "## 변수 분리"
   ]
  },
  {
   "cell_type": "code",
   "execution_count": 16,
   "id": "400b31f0-a9a1-4756-b0b1-f0694c7d7f3e",
   "metadata": {},
   "outputs": [
    {
     "data": {
      "text/plain": [
       "((40000, 17), (10001, 17), (40000,), (10001,))"
      ]
     },
     "execution_count": 16,
     "metadata": {},
     "output_type": "execute_result"
    }
   ],
   "source": [
    "# 타겟 변수와 피처 분리\n",
    "train_X = train.drop('NObeyesdad', axis=1)\n",
    "train_Y = train['NObeyesdad']\n",
    "data_X = data.drop('NObeyesdad', axis=1)\n",
    "data_Y = data['NObeyesdad']\n",
    "raw_X = raw.drop('NObeyesdad', axis=1)\n",
    "raw_Y = raw['NObeyesdad']\n",
    "\n",
    "# 학습 세트와 테스트 세트로 분할\n",
    "X_tr, X_val, y_tr, y_val = train_test_split(data_X, data_Y, test_size=0.2, random_state=42)\n",
    "\n",
    "X_tr.shape, X_val.shape, y_tr.shape, y_val.shape"
   ]
  },
  {
   "cell_type": "code",
   "execution_count": 17,
   "id": "93cdb6c7-e5e0-4711-8c2a-e75d26461c84",
   "metadata": {},
   "outputs": [
    {
     "name": "stdout",
     "output_type": "stream",
     "text": [
      "Fold 1 (XGBoost) 검증 데이터 정확도: 0.938375\n",
      "Fold 2 (XGBoost) 검증 데이터 정확도: 0.930250\n",
      "Fold 3 (XGBoost) 검증 데이터 정확도: 0.929375\n",
      "Fold 4 (XGBoost) 검증 데이터 정확도: 0.928750\n",
      "Fold 5 (XGBoost) 검증 데이터 정확도: 0.940625\n",
      "\n",
      "평균 (XGBoost) 검증 데이터 정확도: 0.933475\n"
     ]
    }
   ],
   "source": [
    "skf = StratifiedKFold(n_splits=5, shuffle=True, random_state=42)\n",
    "\n",
    "accuracies = []\n",
    "\n",
    "for fold, (train_index, val_index) in enumerate(skf.split(X_tr, y_tr), 1):\n",
    "\n",
    "    X_train_fold, X_val_fold = X_tr.iloc[train_index], X_tr.iloc[val_index]\n",
    "    y_train_fold, y_val_fold = y_tr.iloc[train_index], y_tr.iloc[val_index]\n",
    "\n",
    "    model_xgb = XGBClassifier(random_state=42)\n",
    "    model_xgb.fit(X_train_fold, y_train_fold)\n",
    "\n",
    "    y_pred_fold = model_xgb.predict(X_val_fold)\n",
    "    accuracy_fold = accuracy_score(y_val_fold, y_pred_fold)\n",
    "    accuracies.append(accuracy_fold)\n",
    "\n",
    "    print(f\"Fold {fold} (XGBoost) 검증 데이터 정확도: {accuracy_fold:.6f}\")\n",
    "\n",
    "average_accuracy = np.mean(accuracies)\n",
    "print(f\"\\n평균 (XGBoost) 검증 데이터 정확도: {average_accuracy:.6f}\")"
   ]
  },
  {
   "cell_type": "code",
   "execution_count": 18,
   "id": "00a49801-b475-4098-b333-ea07d577fa31",
   "metadata": {},
   "outputs": [
    {
     "name": "stdout",
     "output_type": "stream",
     "text": [
      "Fold 1 (LightGBM) 검증 데이터 정확도: 0.937500\n",
      "Fold 2 (LightGBM) 검증 데이터 정확도: 0.927250\n",
      "Fold 3 (LightGBM) 검증 데이터 정확도: 0.930125\n",
      "Fold 4 (LightGBM) 검증 데이터 정확도: 0.928625\n",
      "Fold 5 (LightGBM) 검증 데이터 정확도: 0.936875\n",
      "\n",
      "평균 (LightGBM) 검증 데이터 정확도: 0.932075\n"
     ]
    }
   ],
   "source": [
    "from lightgbm import LGBMClassifier\n",
    "\n",
    "accuracies_lgb = []\n",
    "\n",
    "for fold, (train_index, val_index) in enumerate(skf.split(X_tr, y_tr), 1):\n",
    "    X_train_fold, X_val_fold = X_tr.iloc[train_index], X_tr.iloc[val_index]\n",
    "    y_train_fold, y_val_fold = y_tr.iloc[train_index], y_tr.iloc[val_index]\n",
    "\n",
    "    model_lgb = LGBMClassifier(random_state=42, verbose=-1)\n",
    "    model_lgb.fit(X_train_fold, y_train_fold)\n",
    "\n",
    "    y_pred_fold = model_lgb.predict(X_val_fold)\n",
    "    accuracy_fold = accuracy_score(y_val_fold, y_pred_fold)\n",
    "    accuracies_lgb.append(accuracy_fold)\n",
    "\n",
    "    print(f\"Fold {fold} (LightGBM) 검증 데이터 정확도: {accuracy_fold:.6f}\")\n",
    "\n",
    "average_accuracy_lgb = np.mean(accuracies_lgb)\n",
    "print(f\"\\n평균 (LightGBM) 검증 데이터 정확도: {average_accuracy_lgb:.6f}\")"
   ]
  },
  {
   "cell_type": "code",
   "execution_count": 19,
   "id": "6dea5115-cee6-481d-b462-f9d972adafff",
   "metadata": {},
   "outputs": [
    {
     "name": "stdout",
     "output_type": "stream",
     "text": [
      "Fold 1 (RandomForest) 검증 데이터 정확도: 0.935500\n",
      "Fold 2 (RandomForest) 검증 데이터 정확도: 0.928125\n",
      "Fold 3 (RandomForest) 검증 데이터 정확도: 0.929750\n",
      "Fold 4 (RandomForest) 검증 데이터 정확도: 0.929875\n",
      "Fold 5 (RandomForest) 검증 데이터 정확도: 0.937375\n",
      "\n",
      "평균 (RandomForest) 검증 데이터 정확도: 0.932125\n"
     ]
    }
   ],
   "source": [
    "accuracies_rf = []\n",
    "\n",
    "for fold, (train_index, val_index) in enumerate(skf.split(X_tr, y_tr), 1):\n",
    "    X_train_fold, X_val_fold = X_tr.iloc[train_index], X_tr.iloc[val_index]\n",
    "    y_train_fold, y_val_fold = y_tr.iloc[train_index], y_tr.iloc[val_index]\n",
    "\n",
    "    model_rf = RandomForestClassifier(random_state=42)\n",
    "    model_rf.fit(X_train_fold, y_train_fold)\n",
    "\n",
    "    y_pred_fold = model_rf.predict(X_val_fold)\n",
    "    accuracy_fold = accuracy_score(y_val_fold, y_pred_fold)\n",
    "    accuracies_rf.append(accuracy_fold)\n",
    "\n",
    "    print(f\"Fold {fold} (RandomForest) 검증 데이터 정확도: {accuracy_fold:.6f}\")\n",
    "\n",
    "average_accuracy_rf = np.mean(accuracies_rf)\n",
    "print(f\"\\n평균 (RandomForest) 검증 데이터 정확도: {average_accuracy_rf:.6f}\")"
   ]
  },
  {
   "cell_type": "code",
   "execution_count": 20,
   "id": "4771adfe-c99c-45e2-a587-b7f718a25c9e",
   "metadata": {},
   "outputs": [
    {
     "name": "stdout",
     "output_type": "stream",
     "text": [
      "Fold 1 (CatBoost) 검증 데이터 정확도: 0.936125\n",
      "Fold 2 (CatBoost) 검증 데이터 정확도: 0.927125\n",
      "Fold 3 (CatBoost) 검증 데이터 정확도: 0.927750\n",
      "Fold 4 (CatBoost) 검증 데이터 정확도: 0.926875\n",
      "Fold 5 (CatBoost) 검증 데이터 정확도: 0.933875\n",
      "\n",
      "평균 (CatBoost) 검증 데이터 정확도: 0.930350\n"
     ]
    }
   ],
   "source": [
    "accuracies_cat = []\n",
    "\n",
    "for fold, (train_index, val_index) in enumerate(skf.split(X_tr, y_tr), 1):\n",
    "    X_train_fold, X_val_fold = X_tr.iloc[train_index], X_tr.iloc[val_index]\n",
    "    y_train_fold, y_val_fold = y_tr.iloc[train_index], y_tr.iloc[val_index]\n",
    "\n",
    "    model_cat = CatBoostClassifier(random_state=42, verbose=0)\n",
    "    model_cat.fit(X_train_fold, y_train_fold)\n",
    "\n",
    "    y_pred_fold = model_cat.predict(X_val_fold)\n",
    "    accuracy_fold = accuracy_score(y_val_fold, y_pred_fold)\n",
    "    accuracies_cat.append(accuracy_fold)\n",
    "\n",
    "    print(f\"Fold {fold} (CatBoost) 검증 데이터 정확도: {accuracy_fold:.6f}\")\n",
    "\n",
    "average_accuracy_cat = np.mean(accuracies_cat)\n",
    "print(f\"\\n평균 (CatBoost) 검증 데이터 정확도: {average_accuracy_cat:.6f}\")"
   ]
  },
  {
   "cell_type": "code",
   "execution_count": 21,
   "id": "e5d60542-7fde-4a85-932c-9ff21e98b010",
   "metadata": {},
   "outputs": [
    {
     "name": "stdout",
     "output_type": "stream",
     "text": [
      "XGBoost 학습 데이터 정확도: 0.994789199431549\n",
      "LightGBM 학습 데이터 정확도: 0.9928943628612033\n",
      "RandomForest 학습 데이터 정확도: 0.995736617716722\n",
      "CatBoost 학습 데이터 정확도: 0.9900521080056846\n"
     ]
    }
   ],
   "source": [
    "raw_preds_xgb = model_xgb.predict(raw_X)\n",
    "raw_preds_lgb = model_lgb.predict(raw_X)\n",
    "raw_preds_rf = model_rf.predict(raw_X)\n",
    "raw_preds_cat = model_cat.predict(raw_X)\n",
    "\n",
    "raw_accuracy_xgb = accuracy_score(raw_Y, raw_preds_xgb)\n",
    "raw_accuracy_lgb = accuracy_score(raw_Y, raw_preds_lgb)\n",
    "raw_accuracy_rf = accuracy_score(raw_Y, raw_preds_rf)\n",
    "raw_accuracy_cat = accuracy_score(raw_Y, raw_preds_cat)\n",
    "\n",
    "print(\"XGBoost 학습 데이터 정확도:\", raw_accuracy_xgb)\n",
    "print(\"LightGBM 학습 데이터 정확도:\", raw_accuracy_lgb)\n",
    "print(\"RandomForest 학습 데이터 정확도:\", raw_accuracy_rf)\n",
    "print(\"CatBoost 학습 데이터 정확도:\", raw_accuracy_cat)"
   ]
  },
  {
   "cell_type": "code",
   "execution_count": 22,
   "id": "245b2c97-5873-45ef-ae58-b9289c944c2e",
   "metadata": {},
   "outputs": [
    {
     "name": "stdout",
     "output_type": "stream",
     "text": [
      "XGBoost 학습 데이터 정확도: 0.9585220156084401\n",
      "LightGBM 학습 데이터 정확도: 0.9477309952789286\n",
      "RandomForest 학습 데이터 정확도: 0.9660853646786781\n",
      "CatBoost 학습 데이터 정확도: 0.9383852008864052\n"
     ]
    }
   ],
   "source": [
    "pred_xgb = model_xgb.predict(train_X)\n",
    "accuracy_xgb = accuracy_score(train_Y, pred_xgb)\n",
    "print(\"XGBoost 학습 데이터 정확도:\", accuracy_xgb)\n",
    "\n",
    "pred_lgb = model_lgb.predict(train_X)\n",
    "accuracy_lgb = accuracy_score(train_Y, pred_lgb)\n",
    "print(\"LightGBM 학습 데이터 정확도:\", accuracy_lgb)\n",
    "\n",
    "pred_rf = model_rf.predict(train_X)\n",
    "accuracy_rf = accuracy_score(train_Y, pred_rf)\n",
    "print(\"RandomForest 학습 데이터 정확도:\", accuracy_rf)\n",
    "\n",
    "pred_cat = model_cat.predict(train_X)\n",
    "accuracy_cat = accuracy_score(train_Y, pred_cat)\n",
    "print(\"CatBoost 학습 데이터 정확도:\", accuracy_cat)"
   ]
  },
  {
   "cell_type": "code",
   "execution_count": 23,
   "id": "71349f1f-dca3-46ab-a83c-67eb06d60844",
   "metadata": {},
   "outputs": [
    {
     "data": {
      "image/png": "[encoded data removed]",
      "text/plain": [
       "<Figure size 1500x1000 with 4 Axes>"
      ]
     },
     "metadata": {},
     "output_type": "display_data"
    }
   ],
   "source": [
    "import numpy as np\n",
    "import matplotlib.pyplot as plt\n",
    "\n",
    "# 다크 모드 스타일 사용\n",
    "plt.style.use('dark_background')\n",
    "\n",
    "# 실제 데이터셋의 특성 이름을 사용\n",
    "feature_names = train_X.columns\n",
    "\n",
    "cat_importances = model_cat.feature_importances_\n",
    "rf_importances = model_rf.feature_importances_\n",
    "xgb_importances = model_xgb.feature_importances_\n",
    "lgb_importances = model_lgb.feature_importances_\n",
    "\n",
    "\n",
    "# 각 모델의 중요도에 따른 인덱스 정렬\n",
    "lgb_indices = np.argsort(lgb_importances)\n",
    "cat_indices = np.argsort(cat_importances)\n",
    "rf_indices = np.argsort(rf_importances)\n",
    "xgb_indices = np.argsort(xgb_importances)\n",
    "\n",
    "fig, axs = plt.subplots(2, 2, figsize=(15, 10))\n",
    "\n",
    "# LightGBM Feature Importances\n",
    "axs[0, 0].barh(range(len(lgb_indices)), lgb_importances[lgb_indices], color='lightblue')\n",
    "axs[0, 0].set_yticks(range(len(lgb_indices)))\n",
    "axs[0, 0].set_yticklabels(np.array(feature_names)[lgb_indices])\n",
    "axs[0, 0].set_title('LightGBM Feature Importances')\n",
    "\n",
    "# CatBoost Feature Importances\n",
    "axs[0, 1].barh(range(len(cat_indices)), cat_importances[cat_indices], color='salmon')\n",
    "axs[0, 1].set_yticks(range(len(cat_indices)))\n",
    "axs[0, 1].set_yticklabels(np.array(feature_names)[cat_indices])\n",
    "axs[0, 1].set_title('CatBoost Feature Importances')\n",
    "\n",
    "# RandomForest Feature Importances\n",
    "axs[1, 0].barh(range(len(rf_indices)), rf_importances[rf_indices], color='lightgreen')\n",
    "axs[1, 0].set_yticks(range(len(rf_indices)))\n",
    "axs[1, 0].set_yticklabels(np.array(feature_names)[rf_indices])\n",
    "axs[1, 0].set_title('RandomForest Feature Importances')\n",
    "\n",
    "# XGBoost Feature Importances\n",
    "axs[1, 1].barh(range(len(xgb_indices)), xgb_importances[xgb_indices], color='violet')\n",
    "axs[1, 1].set_yticks(range(len(xgb_indices)))\n",
    "axs[1, 1].set_yticklabels(np.array(feature_names)[xgb_indices])\n",
    "axs[1, 1].set_title('XGBoost Feature Importances')\n",
    "\n",
    "plt.tight_layout()\n",
    "plt.show()"
   ]
  },
  {
   "cell_type": "code",
   "execution_count": 24,
   "id": "81c0ae75-5b34-4a02-8c0b-0d0216000893",
   "metadata": {},
   "outputs": [],
   "source": [
    "xgb_preds = model_xgb.predict(test)\n",
    "lgb_preds = model_lgb.predict(test)\n",
    "rf_preds = model_rf.predict(test)\n",
    "cat_preds = model_cat.predict(test)"
   ]
  },
  {
   "cell_type": "code",
   "execution_count": 25,
   "id": "cbf27095-faaf-464f-9845-84acb8fbea84",
   "metadata": {},
   "outputs": [],
   "source": [
    "category_mapping = {\n",
    "    0: 'Insufficient_Weight',\n",
    "    1: 'Normal_Weight',\n",
    "    2: 'Obesity_Type_I',\n",
    "    3: 'Obesity_Type_II',\n",
    "    4: 'Obesity_Type_III',\n",
    "    5: 'Overweight_Level_I',\n",
    "    6: 'Overweight_Level_II'\n",
    "}"
   ]
  },
  {
   "cell_type": "code",
   "execution_count": 26,
   "id": "40db4464-f1e2-436f-a8bc-5384cc344b3a",
   "metadata": {},
   "outputs": [
    {
     "ename": "TypeError",
     "evalue": "unhashable type: 'numpy.ndarray'",
     "output_type": "error",
     "traceback": [
      "\u001b[1;31m---------------------------------------------------------------------------\u001b[0m",
      "\u001b[1;31mTypeError\u001b[0m                                 Traceback (most recent call last)",
      "Cell \u001b[1;32mIn[26], line 4\u001b[0m\n\u001b[0;32m      2\u001b[0m lgb_preds_names \u001b[38;5;241m=\u001b[39m [category_mapping[pred] \u001b[38;5;28;01mfor\u001b[39;00m pred \u001b[38;5;129;01min\u001b[39;00m lgb_preds]\n\u001b[0;32m      3\u001b[0m rf_preds_names \u001b[38;5;241m=\u001b[39m [category_mapping[pred] \u001b[38;5;28;01mfor\u001b[39;00m pred \u001b[38;5;129;01min\u001b[39;00m rf_preds]\n\u001b[1;32m----> 4\u001b[0m cat_preds_names \u001b[38;5;241m=\u001b[39m [\u001b[43mcategory_mapping\u001b[49m\u001b[43m[\u001b[49m\u001b[43mpred\u001b[49m\u001b[43m]\u001b[49m \u001b[38;5;28;01mfor\u001b[39;00m pred \u001b[38;5;129;01min\u001b[39;00m cat_preds]\n",
      "\u001b[1;31mTypeError\u001b[0m: unhashable type: 'numpy.ndarray'"
     ]
    }
   ],
   "source": [
    "xgb_preds_names = [category_mapping[pred] for pred in xgb_preds]\n",
    "lgb_preds_names = [category_mapping[pred] for pred in lgb_preds]\n",
    "rf_preds_names = [category_mapping[pred] for pred in rf_preds]\n",
    "cat_preds_names = [category_mapping[pred] for pred in cat_preds]"
   ]
  },
  {
   "cell_type": "code",
   "execution_count": null,
   "id": "15108705-50b4-45cc-9e8a-4c039672857c",
   "metadata": {},
   "outputs": [],
   "source": [
    "submission['NObeyesdad'] = xgb_preds_names\n",
    "submission"
   ]
  },
  {
   "cell_type": "code",
   "execution_count": null,
   "id": "e8be6679-7bb6-427f-8143-5069ab2a29b8",
   "metadata": {},
   "outputs": [],
   "source": [
    "submission.to_csv(\"submission_xgb.csv\", index=False)"
   ]
  },
  {
   "cell_type": "code",
   "execution_count": null,
   "id": "dc0a4b72-bad7-4df6-852a-f42b33f9aa69",
   "metadata": {},
   "outputs": [],
   "source": [
    "submission['NObeyesdad'] = lgb_preds_names\n",
    "submission"
   ]
  },
  {
   "cell_type": "code",
   "execution_count": null,
   "id": "7c2a0bd2-910f-4755-b9db-eda65a380f2b",
   "metadata": {},
   "outputs": [],
   "source": [
    "submission.to_csv(\"submission_lgb.csv\", index=False)"
   ]
  },
  {
   "cell_type": "code",
   "execution_count": null,
   "id": "6b57c100-e7b1-43ee-9bf6-d311fca05c2d",
   "metadata": {},
   "outputs": [],
   "source": [
    "submission['NObeyesdad'] = rf_preds_names\n",
    "submission"
   ]
  },
  {
   "cell_type": "code",
   "execution_count": null,
   "id": "df447fc3-2eba-4f15-b913-0f04d143be51",
   "metadata": {},
   "outputs": [],
   "source": [
    "submission.to_csv(\"submission_rf.csv\", index=False)"
   ]
  },
  {
   "cell_type": "code",
   "execution_count": null,
   "id": "bca3d318-61ae-470f-a91e-f23d8bb9046d",
   "metadata": {},
   "outputs": [],
   "source": [
    "submission['NObeyesdad'] = cat_preds_names\n",
    "submission"
   ]
  },
  {
   "cell_type": "code",
   "execution_count": null,
   "id": "d62ada57-2fcc-414d-99cc-c40262c108e8",
   "metadata": {},
   "outputs": [],
   "source": [
    "submission.to_csv(\"submission_cat.csv\", index=False)"
   ]
  }
 ],
 "metadata": {
  "kernelspec": {
   "display_name": "Python 3 (ipykernel)",
   "language": "python",
   "name": "python3"
  },
  "language_info": {
   "codemirror_mode": {
    "name": "ipython",
    "version": 3
   },
   "file_extension": ".py",
   "mimetype": "text/x-python",
   "name": "python",
   "nbconvert_exporter": "python",
   "pygments_lexer": "ipython3",
   "version": "3.12.1"
  }
 },
 "nbformat": 4,
 "nbformat_minor": 5
}
