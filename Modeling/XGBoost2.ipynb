{
 "cells": [
  {
   "cell_type": "code",
   "execution_count": 1,
   "id": "5f10b9b4",
   "metadata": {
    "_cell_guid": "b1076dfc-b9ad-4769-8c92-a6c4dae69d19",
    "_uuid": "8f2839f25d086af736a60e9eeb907d3b93b6e0e5",
    "execution": {
     "iopub.execute_input": "2024-02-27T05:26:48.607055Z",
     "iopub.status.busy": "2024-02-27T05:26:48.606516Z",
     "iopub.status.idle": "2024-02-27T05:26:49.375918Z",
     "shell.execute_reply": "2024-02-27T05:26:49.374983Z"
    },
    "papermill": {
     "duration": 0.777563,
     "end_time": "2024-02-27T05:26:49.377877",
     "exception": false,
     "start_time": "2024-02-27T05:26:48.600314",
     "status": "completed"
    },
    "tags": []
   },
   "outputs": [
    {
     "name": "stdout",
     "output_type": "stream",
     "text": [
      "/kaggle/input/playground-series-s4e2/sample_submission.csv\n",
      "/kaggle/input/playground-series-s4e2/train.csv\n",
      "/kaggle/input/playground-series-s4e2/test.csv\n"
     ]
    }
   ],
   "source": [
    "# This Python 3 environment comes with many helpful analytics libraries installed\n",
    "# It is defined by the kaggle/python Docker image: https://github.com/kaggle/docker-python\n",
    "# For example, here's several helpful packages to load\n",
    "\n",
    "import numpy as np # linear algebra\n",
    "import pandas as pd # data processing, CSV file I/O (e.g. pd.read_csv)\n",
    "\n",
    "# Input data files are available in the read-only \"../input/\" directory\n",
    "# For example, running this (by clicking run or pressing Shift+Enter) will list all files under the input directory\n",
    "\n",
    "import os\n",
    "for dirname, _, filenames in os.walk('/kaggle/input'):\n",
    "    for filename in filenames:\n",
    "        print(os.path.join(dirname, filename))\n",
    "\n",
    "# You can write up to 20GB to the current directory (/kaggle/working/) that gets preserved as output when you create a version using \"Save & Run All\" \n",
    "# You can also write temporary files to /kaggle/temp/, but they won't be saved outside of the current session"
   ]
  },
  {
   "cell_type": "code",
   "execution_count": 2,
   "id": "4d98a8b3",
   "metadata": {
    "execution": {
     "iopub.execute_input": "2024-02-27T05:26:49.389649Z",
     "iopub.status.busy": "2024-02-27T05:26:49.389094Z",
     "iopub.status.idle": "2024-02-27T05:26:50.737627Z",
     "shell.execute_reply": "2024-02-27T05:26:50.736431Z"
    },
    "papermill": {
     "duration": 1.356943,
     "end_time": "2024-02-27T05:26:50.739812",
     "exception": false,
     "start_time": "2024-02-27T05:26:49.382869",
     "status": "completed"
    },
    "tags": []
   },
   "outputs": [],
   "source": [
    "import pandas as pd\n",
    "import numpy as np\n",
    "import matplotlib.pyplot as plt\n",
    "from sklearn.model_selection import train_test_split, GridSearchCV, cross_val_score, RandomizedSearchCV\n",
    "from sklearn.model_selection import StratifiedKFold\n",
    "from sklearn.model_selection import cross_val_score\n",
    "from sklearn.preprocessing import OneHotEncoder, StandardScaler\n",
    "from sklearn.compose import ColumnTransformer\n",
    "from sklearn.pipeline import Pipeline\n",
    "from sklearn.metrics import accuracy_score, recall_score, precision_score, f1_score\n",
    "from sklearn.base import BaseEstimator, TransformerMixin\n",
    "import xgboost as xgb\n",
    "from sklearn.preprocessing import LabelEncoder\n",
    "from scipy.stats import uniform, randint\n",
    "import warnings\n",
    "warnings.filterwarnings('ignore')"
   ]
  },
  {
   "cell_type": "code",
   "execution_count": 3,
   "id": "4cedf8b2",
   "metadata": {
    "execution": {
     "iopub.execute_input": "2024-02-27T05:26:50.749961Z",
     "iopub.status.busy": "2024-02-27T05:26:50.749654Z",
     "iopub.status.idle": "2024-02-27T05:26:50.884959Z",
     "shell.execute_reply": "2024-02-27T05:26:50.883760Z"
    },
    "papermill": {
     "duration": 0.143047,
     "end_time": "2024-02-27T05:26:50.887430",
     "exception": false,
     "start_time": "2024-02-27T05:26:50.744383",
     "status": "completed"
    },
    "tags": []
   },
   "outputs": [],
   "source": [
    "train = pd.read_csv(\"/kaggle/input/playground-series-s4e2/train.csv\")\n",
    "test = pd.read_csv(\"/kaggle/input/playground-series-s4e2/test.csv\")\n",
    "submission = pd.read_csv('/kaggle/input/playground-series-s4e2/sample_submission.csv')"
   ]
  },
  {
   "cell_type": "code",
   "execution_count": 4,
   "id": "79fc3fb1",
   "metadata": {
    "execution": {
     "iopub.execute_input": "2024-02-27T05:26:50.897779Z",
     "iopub.status.busy": "2024-02-27T05:26:50.897435Z",
     "iopub.status.idle": "2024-02-27T05:26:50.905192Z",
     "shell.execute_reply": "2024-02-27T05:26:50.904601Z"
    },
    "papermill": {
     "duration": 0.014791,
     "end_time": "2024-02-27T05:26:50.906790",
     "exception": false,
     "start_time": "2024-02-27T05:26:50.891999",
     "status": "completed"
    },
    "tags": []
   },
   "outputs": [],
   "source": [
    "# Feature Engineering을 위한 Transformer 클래스 정의\n",
    "class CustomFeatures(BaseEstimator, TransformerMixin):\n",
    "    def __init__(self):\n",
    "        pass\n",
    "    \n",
    "    def fit(self, X, y=None):\n",
    "        return self\n",
    "    \n",
    "    def transform(self, X):\n",
    "        #BMI 계산\n",
    "        X['BMI'] = X['Weight'] / (X['Height'] ** 2)\n",
    "        # 연령 그륩화 (10살 단위)\n",
    "        X['AgeGroup'] = (X['Age'] // 10) * 10\n",
    "        return X\n",
    "    \n",
    "# 범주형 및 수치형 변수 식별\n",
    "cat_cols = list(train.select_dtypes(exclude=np.number).columns)\n",
    "num_cols = list(train.select_dtypes(include=np.number).columns)"
   ]
  },
  {
   "cell_type": "code",
   "execution_count": 5,
   "id": "6b67517f",
   "metadata": {
    "execution": {
     "iopub.execute_input": "2024-02-27T05:26:50.916802Z",
     "iopub.status.busy": "2024-02-27T05:26:50.916294Z",
     "iopub.status.idle": "2024-02-27T05:26:50.921857Z",
     "shell.execute_reply": "2024-02-27T05:26:50.921295Z"
    },
    "papermill": {
     "duration": 0.012324,
     "end_time": "2024-02-27T05:26:50.923319",
     "exception": false,
     "start_time": "2024-02-27T05:26:50.910995",
     "status": "completed"
    },
    "tags": []
   },
   "outputs": [],
   "source": [
    "# 전처리 파이프라인 설정\n",
    "numerical_transformer = Pipeline(steps=[\n",
    "    ('scaler', StandardScaler())\n",
    "])\n",
    "\n",
    "categorical_transformer = Pipeline(steps=[\n",
    "    ('onehot', OneHotEncoder(handle_unknown='ignore'))\n",
    "])\n",
    "\n",
    "num_cols_updated = ['Age', 'Height', 'Weight', 'FCVC', 'NCP', 'CH2O', 'FAF', 'TUE', 'BMI', 'AgeGroup'] \n",
    "cat_cols_updated = ['Gender', 'family_history_with_overweight', 'FAVC', 'CAEC', 'SMOKE', 'SCC', 'CALC', 'MTRANS']  \n",
    "\n",
    "# 전처리기 설정\n",
    "preprocessor = ColumnTransformer(\n",
    "    transformers=[\n",
    "        ('num', numerical_transformer, num_cols_updated), \n",
    "        ('cat', categorical_transformer, cat_cols_updated) \n",
    "    ])\n",
    "\n",
    "# 파이프라인 구축\n",
    "pipeline = Pipeline(steps=[('features', CustomFeatures()),\n",
    "                           ('preprocessor', preprocessor),\n",
    "                           ('classifier', xgb.XGBClassifier(random_state=42))])"
   ]
  },
  {
   "cell_type": "code",
   "execution_count": 6,
   "id": "59b3f439",
   "metadata": {
    "execution": {
     "iopub.execute_input": "2024-02-27T05:26:50.933095Z",
     "iopub.status.busy": "2024-02-27T05:26:50.932601Z",
     "iopub.status.idle": "2024-02-27T05:26:50.964371Z",
     "shell.execute_reply": "2024-02-27T05:26:50.963367Z"
    },
    "papermill": {
     "duration": 0.039069,
     "end_time": "2024-02-27T05:26:50.966589",
     "exception": false,
     "start_time": "2024-02-27T05:26:50.927520",
     "status": "completed"
    },
    "tags": []
   },
   "outputs": [],
   "source": [
    "X = train.drop('NObeyesdad', axis=1)  # 타겟 변수 제거\n",
    "y = train['NObeyesdad']  # 타겟 변수\n",
    "\n",
    "# 학습 세트와 테스트 세트로 분할\n",
    "X_train, X_test, y_train, y_test = train_test_split(X, y, test_size=0.2, random_state=42)\n",
    "\n",
    "# 레이블 인코더 생성\n",
    "label_encoder = LabelEncoder()\n",
    "\n",
    "# 학습 및 테스트 타겟 레이블 인코딩\n",
    "y_train_encoded = label_encoder.fit_transform(y_train)\n",
    "y_test_encoded = label_encoder.transform(y_test)"
   ]
  },
  {
   "cell_type": "code",
   "execution_count": 7,
   "id": "e3f012b1",
   "metadata": {
    "execution": {
     "iopub.execute_input": "2024-02-27T05:26:50.976620Z",
     "iopub.status.busy": "2024-02-27T05:26:50.976265Z",
     "iopub.status.idle": "2024-02-27T05:26:53.143010Z",
     "shell.execute_reply": "2024-02-27T05:26:53.141614Z"
    },
    "papermill": {
     "duration": 2.173948,
     "end_time": "2024-02-27T05:26:53.144966",
     "exception": false,
     "start_time": "2024-02-27T05:26:50.971018",
     "status": "completed"
    },
    "tags": []
   },
   "outputs": [
    {
     "data": {
      "text/html": [
       "<style>#sk-container-id-1 {color: black;background-color: white;}#sk-container-id-1 pre{padding: 0;}#sk-container-id-1 div.sk-toggleable {background-color: white;}#sk-container-id-1 label.sk-toggleable__label {cursor: pointer;display: block;width: 100%;margin-bottom: 0;padding: 0.3em;box-sizing: border-box;text-align: center;}#sk-container-id-1 label.sk-toggleable__label-arrow:before {content: \"▸\";float: left;margin-right: 0.25em;color: #696969;}#sk-container-id-1 label.sk-toggleable__label-arrow:hover:before {color: black;}#sk-container-id-1 div.sk-estimator:hover label.sk-toggleable__label-arrow:before {color: black;}#sk-container-id-1 div.sk-toggleable__content {max-height: 0;max-width: 0;overflow: hidden;text-align: left;background-color: #f0f8ff;}#sk-container-id-1 div.sk-toggleable__content pre {margin: 0.2em;color: black;border-radius: 0.25em;background-color: #f0f8ff;}#sk-container-id-1 input.sk-toggleable__control:checked~div.sk-toggleable__content {max-height: 200px;max-width: 100%;overflow: auto;}#sk-container-id-1 input.sk-toggleable__control:checked~label.sk-toggleable__label-arrow:before {content: \"▾\";}#sk-container-id-1 div.sk-estimator input.sk-toggleable__control:checked~label.sk-toggleable__label {background-color: #d4ebff;}#sk-container-id-1 div.sk-label input.sk-toggleable__control:checked~label.sk-toggleable__label {background-color: #d4ebff;}#sk-container-id-1 input.sk-hidden--visually {border: 0;clip: rect(1px 1px 1px 1px);clip: rect(1px, 1px, 1px, 1px);height: 1px;margin: -1px;overflow: hidden;padding: 0;position: absolute;width: 1px;}#sk-container-id-1 div.sk-estimator {font-family: monospace;background-color: #f0f8ff;border: 1px dotted black;border-radius: 0.25em;box-sizing: border-box;margin-bottom: 0.5em;}#sk-container-id-1 div.sk-estimator:hover {background-color: #d4ebff;}#sk-container-id-1 div.sk-parallel-item::after {content: \"\";width: 100%;border-bottom: 1px solid gray;flex-grow: 1;}#sk-container-id-1 div.sk-label:hover label.sk-toggleable__label {background-color: #d4ebff;}#sk-container-id-1 div.sk-serial::before {content: \"\";position: absolute;border-left: 1px solid gray;box-sizing: border-box;top: 0;bottom: 0;left: 50%;z-index: 0;}#sk-container-id-1 div.sk-serial {display: flex;flex-direction: column;align-items: center;background-color: white;padding-right: 0.2em;padding-left: 0.2em;position: relative;}#sk-container-id-1 div.sk-item {position: relative;z-index: 1;}#sk-container-id-1 div.sk-parallel {display: flex;align-items: stretch;justify-content: center;background-color: white;position: relative;}#sk-container-id-1 div.sk-item::before, #sk-container-id-1 div.sk-parallel-item::before {content: \"\";position: absolute;border-left: 1px solid gray;box-sizing: border-box;top: 0;bottom: 0;left: 50%;z-index: -1;}#sk-container-id-1 div.sk-parallel-item {display: flex;flex-direction: column;z-index: 1;position: relative;background-color: white;}#sk-container-id-1 div.sk-parallel-item:first-child::after {align-self: flex-end;width: 50%;}#sk-container-id-1 div.sk-parallel-item:last-child::after {align-self: flex-start;width: 50%;}#sk-container-id-1 div.sk-parallel-item:only-child::after {width: 0;}#sk-container-id-1 div.sk-dashed-wrapped {border: 1px dashed gray;margin: 0 0.4em 0.5em 0.4em;box-sizing: border-box;padding-bottom: 0.4em;background-color: white;}#sk-container-id-1 div.sk-label label {font-family: monospace;font-weight: bold;display: inline-block;line-height: 1.2em;}#sk-container-id-1 div.sk-label-container {text-align: center;}#sk-container-id-1 div.sk-container {/* jupyter's `normalize.less` sets `[hidden] { display: none; }` but bootstrap.min.css set `[hidden] { display: none !important; }` so we also need the `!important` here to be able to override the default hidden behavior on the sphinx rendered scikit-learn.org. See: https://github.com/scikit-learn/scikit-learn/issues/21755 */display: inline-block !important;position: relative;}#sk-container-id-1 div.sk-text-repr-fallback {display: none;}</style><div id=\"sk-container-id-1\" class=\"sk-top-container\"><div class=\"sk-text-repr-fallback\"><pre>Pipeline(steps=[(&#x27;features&#x27;, CustomFeatures()),\n",
       "                (&#x27;preprocessor&#x27;,\n",
       "                 ColumnTransformer(transformers=[(&#x27;num&#x27;,\n",
       "                                                  Pipeline(steps=[(&#x27;scaler&#x27;,\n",
       "                                                                   StandardScaler())]),\n",
       "                                                  [&#x27;Age&#x27;, &#x27;Height&#x27;, &#x27;Weight&#x27;,\n",
       "                                                   &#x27;FCVC&#x27;, &#x27;NCP&#x27;, &#x27;CH2O&#x27;, &#x27;FAF&#x27;,\n",
       "                                                   &#x27;TUE&#x27;, &#x27;BMI&#x27;, &#x27;AgeGroup&#x27;]),\n",
       "                                                 (&#x27;cat&#x27;,\n",
       "                                                  Pipeline(steps=[(&#x27;onehot&#x27;,\n",
       "                                                                   OneHotEncoder(handle_unknown=&#x27;ignore&#x27;))]),\n",
       "                                                  [&#x27;Gender&#x27;,\n",
       "                                                   &#x27;family_history_with_overweight&#x27;,\n",
       "                                                   &#x27;FAVC&#x27;, &#x27;C...\n",
       "                               feature_types=None, gamma=None, grow_policy=None,\n",
       "                               importance_type=None,\n",
       "                               interaction_constraints=None, learning_rate=None,\n",
       "                               max_bin=None, max_cat_threshold=None,\n",
       "                               max_cat_to_onehot=None, max_delta_step=None,\n",
       "                               max_depth=None, max_leaves=None,\n",
       "                               min_child_weight=None, missing=nan,\n",
       "                               monotone_constraints=None, multi_strategy=None,\n",
       "                               n_estimators=None, n_jobs=None,\n",
       "                               num_parallel_tree=None,\n",
       "                               objective=&#x27;multi:softprob&#x27;, ...))])</pre><b>In a Jupyter environment, please rerun this cell to show the HTML representation or trust the notebook. <br />On GitHub, the HTML representation is unable to render, please try loading this page with nbviewer.org.</b></div><div class=\"sk-container\" hidden><div class=\"sk-item sk-dashed-wrapped\"><div class=\"sk-label-container\"><div class=\"sk-label sk-toggleable\"><input class=\"sk-toggleable__control sk-hidden--visually\" id=\"sk-estimator-id-1\" type=\"checkbox\" ><label for=\"sk-estimator-id-1\" class=\"sk-toggleable__label sk-toggleable__label-arrow\">Pipeline</label><div class=\"sk-toggleable__content\"><pre>Pipeline(steps=[(&#x27;features&#x27;, CustomFeatures()),\n",
       "                (&#x27;preprocessor&#x27;,\n",
       "                 ColumnTransformer(transformers=[(&#x27;num&#x27;,\n",
       "                                                  Pipeline(steps=[(&#x27;scaler&#x27;,\n",
       "                                                                   StandardScaler())]),\n",
       "                                                  [&#x27;Age&#x27;, &#x27;Height&#x27;, &#x27;Weight&#x27;,\n",
       "                                                   &#x27;FCVC&#x27;, &#x27;NCP&#x27;, &#x27;CH2O&#x27;, &#x27;FAF&#x27;,\n",
       "                                                   &#x27;TUE&#x27;, &#x27;BMI&#x27;, &#x27;AgeGroup&#x27;]),\n",
       "                                                 (&#x27;cat&#x27;,\n",
       "                                                  Pipeline(steps=[(&#x27;onehot&#x27;,\n",
       "                                                                   OneHotEncoder(handle_unknown=&#x27;ignore&#x27;))]),\n",
       "                                                  [&#x27;Gender&#x27;,\n",
       "                                                   &#x27;family_history_with_overweight&#x27;,\n",
       "                                                   &#x27;FAVC&#x27;, &#x27;C...\n",
       "                               feature_types=None, gamma=None, grow_policy=None,\n",
       "                               importance_type=None,\n",
       "                               interaction_constraints=None, learning_rate=None,\n",
       "                               max_bin=None, max_cat_threshold=None,\n",
       "                               max_cat_to_onehot=None, max_delta_step=None,\n",
       "                               max_depth=None, max_leaves=None,\n",
       "                               min_child_weight=None, missing=nan,\n",
       "                               monotone_constraints=None, multi_strategy=None,\n",
       "                               n_estimators=None, n_jobs=None,\n",
       "                               num_parallel_tree=None,\n",
       "                               objective=&#x27;multi:softprob&#x27;, ...))])</pre></div></div></div><div class=\"sk-serial\"><div class=\"sk-item\"><div class=\"sk-estimator sk-toggleable\"><input class=\"sk-toggleable__control sk-hidden--visually\" id=\"sk-estimator-id-2\" type=\"checkbox\" ><label for=\"sk-estimator-id-2\" class=\"sk-toggleable__label sk-toggleable__label-arrow\">CustomFeatures</label><div class=\"sk-toggleable__content\"><pre>CustomFeatures()</pre></div></div></div><div class=\"sk-item sk-dashed-wrapped\"><div class=\"sk-label-container\"><div class=\"sk-label sk-toggleable\"><input class=\"sk-toggleable__control sk-hidden--visually\" id=\"sk-estimator-id-3\" type=\"checkbox\" ><label for=\"sk-estimator-id-3\" class=\"sk-toggleable__label sk-toggleable__label-arrow\">preprocessor: ColumnTransformer</label><div class=\"sk-toggleable__content\"><pre>ColumnTransformer(transformers=[(&#x27;num&#x27;,\n",
       "                                 Pipeline(steps=[(&#x27;scaler&#x27;, StandardScaler())]),\n",
       "                                 [&#x27;Age&#x27;, &#x27;Height&#x27;, &#x27;Weight&#x27;, &#x27;FCVC&#x27;, &#x27;NCP&#x27;,\n",
       "                                  &#x27;CH2O&#x27;, &#x27;FAF&#x27;, &#x27;TUE&#x27;, &#x27;BMI&#x27;, &#x27;AgeGroup&#x27;]),\n",
       "                                (&#x27;cat&#x27;,\n",
       "                                 Pipeline(steps=[(&#x27;onehot&#x27;,\n",
       "                                                  OneHotEncoder(handle_unknown=&#x27;ignore&#x27;))]),\n",
       "                                 [&#x27;Gender&#x27;, &#x27;family_history_with_overweight&#x27;,\n",
       "                                  &#x27;FAVC&#x27;, &#x27;CAEC&#x27;, &#x27;SMOKE&#x27;, &#x27;SCC&#x27;, &#x27;CALC&#x27;,\n",
       "                                  &#x27;MTRANS&#x27;])])</pre></div></div></div><div class=\"sk-parallel\"><div class=\"sk-parallel-item\"><div class=\"sk-item\"><div class=\"sk-label-container\"><div class=\"sk-label sk-toggleable\"><input class=\"sk-toggleable__control sk-hidden--visually\" id=\"sk-estimator-id-4\" type=\"checkbox\" ><label for=\"sk-estimator-id-4\" class=\"sk-toggleable__label sk-toggleable__label-arrow\">num</label><div class=\"sk-toggleable__content\"><pre>[&#x27;Age&#x27;, &#x27;Height&#x27;, &#x27;Weight&#x27;, &#x27;FCVC&#x27;, &#x27;NCP&#x27;, &#x27;CH2O&#x27;, &#x27;FAF&#x27;, &#x27;TUE&#x27;, &#x27;BMI&#x27;, &#x27;AgeGroup&#x27;]</pre></div></div></div><div class=\"sk-serial\"><div class=\"sk-item\"><div class=\"sk-serial\"><div class=\"sk-item\"><div class=\"sk-estimator sk-toggleable\"><input class=\"sk-toggleable__control sk-hidden--visually\" id=\"sk-estimator-id-5\" type=\"checkbox\" ><label for=\"sk-estimator-id-5\" class=\"sk-toggleable__label sk-toggleable__label-arrow\">StandardScaler</label><div class=\"sk-toggleable__content\"><pre>StandardScaler()</pre></div></div></div></div></div></div></div></div><div class=\"sk-parallel-item\"><div class=\"sk-item\"><div class=\"sk-label-container\"><div class=\"sk-label sk-toggleable\"><input class=\"sk-toggleable__control sk-hidden--visually\" id=\"sk-estimator-id-6\" type=\"checkbox\" ><label for=\"sk-estimator-id-6\" class=\"sk-toggleable__label sk-toggleable__label-arrow\">cat</label><div class=\"sk-toggleable__content\"><pre>[&#x27;Gender&#x27;, &#x27;family_history_with_overweight&#x27;, &#x27;FAVC&#x27;, &#x27;CAEC&#x27;, &#x27;SMOKE&#x27;, &#x27;SCC&#x27;, &#x27;CALC&#x27;, &#x27;MTRANS&#x27;]</pre></div></div></div><div class=\"sk-serial\"><div class=\"sk-item\"><div class=\"sk-serial\"><div class=\"sk-item\"><div class=\"sk-estimator sk-toggleable\"><input class=\"sk-toggleable__control sk-hidden--visually\" id=\"sk-estimator-id-7\" type=\"checkbox\" ><label for=\"sk-estimator-id-7\" class=\"sk-toggleable__label sk-toggleable__label-arrow\">OneHotEncoder</label><div class=\"sk-toggleable__content\"><pre>OneHotEncoder(handle_unknown=&#x27;ignore&#x27;)</pre></div></div></div></div></div></div></div></div></div></div><div class=\"sk-item\"><div class=\"sk-estimator sk-toggleable\"><input class=\"sk-toggleable__control sk-hidden--visually\" id=\"sk-estimator-id-8\" type=\"checkbox\" ><label for=\"sk-estimator-id-8\" class=\"sk-toggleable__label sk-toggleable__label-arrow\">XGBClassifier</label><div class=\"sk-toggleable__content\"><pre>XGBClassifier(base_score=None, booster=None, callbacks=None,\n",
       "              colsample_bylevel=None, colsample_bynode=None,\n",
       "              colsample_bytree=None, device=None, early_stopping_rounds=None,\n",
       "              enable_categorical=False, eval_metric=None, feature_types=None,\n",
       "              gamma=None, grow_policy=None, importance_type=None,\n",
       "              interaction_constraints=None, learning_rate=None, max_bin=None,\n",
       "              max_cat_threshold=None, max_cat_to_onehot=None,\n",
       "              max_delta_step=None, max_depth=None, max_leaves=None,\n",
       "              min_child_weight=None, missing=nan, monotone_constraints=None,\n",
       "              multi_strategy=None, n_estimators=None, n_jobs=None,\n",
       "              num_parallel_tree=None, objective=&#x27;multi:softprob&#x27;, ...)</pre></div></div></div></div></div></div></div>"
      ],
      "text/plain": [
       "Pipeline(steps=[('features', CustomFeatures()),\n",
       "                ('preprocessor',\n",
       "                 ColumnTransformer(transformers=[('num',\n",
       "                                                  Pipeline(steps=[('scaler',\n",
       "                                                                   StandardScaler())]),\n",
       "                                                  ['Age', 'Height', 'Weight',\n",
       "                                                   'FCVC', 'NCP', 'CH2O', 'FAF',\n",
       "                                                   'TUE', 'BMI', 'AgeGroup']),\n",
       "                                                 ('cat',\n",
       "                                                  Pipeline(steps=[('onehot',\n",
       "                                                                   OneHotEncoder(handle_unknown='ignore'))]),\n",
       "                                                  ['Gender',\n",
       "                                                   'family_history_with_overweight',\n",
       "                                                   'FAVC', 'C...\n",
       "                               feature_types=None, gamma=None, grow_policy=None,\n",
       "                               importance_type=None,\n",
       "                               interaction_constraints=None, learning_rate=None,\n",
       "                               max_bin=None, max_cat_threshold=None,\n",
       "                               max_cat_to_onehot=None, max_delta_step=None,\n",
       "                               max_depth=None, max_leaves=None,\n",
       "                               min_child_weight=None, missing=nan,\n",
       "                               monotone_constraints=None, multi_strategy=None,\n",
       "                               n_estimators=None, n_jobs=None,\n",
       "                               num_parallel_tree=None,\n",
       "                               objective='multi:softprob', ...))])"
      ]
     },
     "execution_count": 7,
     "metadata": {},
     "output_type": "execute_result"
    }
   ],
   "source": [
    "pipeline.fit(X_train, y_train_encoded)"
   ]
  },
  {
   "cell_type": "code",
   "execution_count": 8,
   "id": "d1bab448",
   "metadata": {
    "execution": {
     "iopub.execute_input": "2024-02-27T05:26:53.155850Z",
     "iopub.status.busy": "2024-02-27T05:26:53.155520Z",
     "iopub.status.idle": "2024-02-27T05:26:53.206224Z",
     "shell.execute_reply": "2024-02-27T05:26:53.205331Z"
    },
    "papermill": {
     "duration": 0.058159,
     "end_time": "2024-02-27T05:26:53.207937",
     "exception": false,
     "start_time": "2024-02-27T05:26:53.149778",
     "status": "completed"
    },
    "tags": []
   },
   "outputs": [
    {
     "name": "stdout",
     "output_type": "stream",
     "text": [
      "Accuracy: 0.9089595375722543\n"
     ]
    }
   ],
   "source": [
    "# 예측 수행\n",
    "y_pred_encoded = pipeline.predict(X_test)\n",
    "\n",
    "# 예측된 레이블을 원래 문자열 레이블로 변환\n",
    "y_pred = label_encoder.inverse_transform(y_pred_encoded)\n",
    "\n",
    "# 예측 결과 출력 또는 평가\n",
    "print(f'Accuracy: {accuracy_score(y_test, y_pred)}')"
   ]
  },
  {
   "cell_type": "code",
   "execution_count": 9,
   "id": "73ee336a",
   "metadata": {
    "execution": {
     "iopub.execute_input": "2024-02-27T05:26:53.218999Z",
     "iopub.status.busy": "2024-02-27T05:26:53.218510Z",
     "iopub.status.idle": "2024-02-27T05:27:02.329840Z",
     "shell.execute_reply": "2024-02-27T05:27:02.329113Z"
    },
    "papermill": {
     "duration": 9.118972,
     "end_time": "2024-02-27T05:27:02.331862",
     "exception": false,
     "start_time": "2024-02-27T05:26:53.212890",
     "status": "completed"
    },
    "tags": []
   },
   "outputs": [
    {
     "name": "stdout",
     "output_type": "stream",
     "text": [
      "Cross-validation accuracy (StratifiedKFold): 0.9035891316836775\n"
     ]
    }
   ],
   "source": [
    "# StratifiedKFold \n",
    "skf = StratifiedKFold(n_splits=5, shuffle=True, random_state=42)\n",
    "\n",
    "# 교차 검증 실행\n",
    "scores = cross_val_score(pipeline, X_train, y_train_encoded, cv=skf, scoring='accuracy')\n",
    "print(f'Cross-validation accuracy (StratifiedKFold): {np.mean(scores)}')"
   ]
  },
  {
   "cell_type": "code",
   "execution_count": 10,
   "id": "d92c2311",
   "metadata": {
    "execution": {
     "iopub.execute_input": "2024-02-27T05:27:02.343436Z",
     "iopub.status.busy": "2024-02-27T05:27:02.342533Z",
     "iopub.status.idle": "2024-02-27T05:27:02.346758Z",
     "shell.execute_reply": "2024-02-27T05:27:02.345979Z"
    },
    "papermill": {
     "duration": 0.011645,
     "end_time": "2024-02-27T05:27:02.348393",
     "exception": false,
     "start_time": "2024-02-27T05:27:02.336748",
     "status": "completed"
    },
    "tags": []
   },
   "outputs": [],
   "source": [
    "# param_grid = {\n",
    "#     'classifier__max_depth' : [3, 5, 7],\n",
    "#     'classifier__n_estimators' : [100, 200],\n",
    "#     'classifier__learning_rate' : [0.01, 0.1]\n",
    "# }\n",
    "\n",
    "# grid_search = GridSearchCV(pipeline, param_grid, cv=5, scoring='accuracy', n_jobs=-1)\n",
    "\n",
    "# grid_search.fit(X_train, y_train_encoded)\n",
    "\n",
    "# print(f\"Best parameters: {grid_search.best_params_}\")\n",
    "# print(f\"Best accuracy: {grid_search.best_score_}\")"
   ]
  },
  {
   "cell_type": "code",
   "execution_count": 11,
   "id": "8f4bbc7e",
   "metadata": {
    "execution": {
     "iopub.execute_input": "2024-02-27T05:27:02.359027Z",
     "iopub.status.busy": "2024-02-27T05:27:02.358724Z",
     "iopub.status.idle": "2024-02-27T06:26:48.236095Z",
     "shell.execute_reply": "2024-02-27T06:26:48.234833Z"
    },
    "papermill": {
     "duration": 3585.889526,
     "end_time": "2024-02-27T06:26:48.242651",
     "exception": false,
     "start_time": "2024-02-27T05:27:02.353125",
     "status": "completed"
    },
    "tags": []
   },
   "outputs": [
    {
     "name": "stdout",
     "output_type": "stream",
     "text": [
      "Best parameters: {'classifier__colsample_bytree': 0.8212096391031578, 'classifier__learning_rate': 0.025906786324973084, 'classifier__max_depth': 5, 'classifier__n_estimators': 951, 'classifier__subsample': 0.7877370889379395}\n",
      "Best score: 0.9088286443102576\n"
     ]
    }
   ],
   "source": [
    "param_distributions = {\n",
    "    'classifier__n_estimators': randint(100, 1000),\n",
    "    'classifier__learning_rate': uniform(0.01, 0.6),\n",
    "    'classifier__max_depth': randint(3, 10),\n",
    "    'classifier__colsample_bytree': uniform(0.5, 0.5),\n",
    "    'classifier__subsample': uniform(0.5, 0.5)\n",
    "}\n",
    "\n",
    "random_search = RandomizedSearchCV(pipeline, param_distributions, n_iter=100, scoring='accuracy', n_jobs=-1, cv=5, random_state=42)\n",
    "\n",
    "random_search.fit(X_train, y_train_encoded)\n",
    "\n",
    "# 결과 출력\n",
    "print(f\"Best parameters: {random_search.best_params_}\")\n",
    "print(f\"Best score: {random_search.best_score_}\")"
   ]
  },
  {
   "cell_type": "code",
   "execution_count": 12,
   "id": "4055a771",
   "metadata": {
    "execution": {
     "iopub.execute_input": "2024-02-27T06:26:48.253958Z",
     "iopub.status.busy": "2024-02-27T06:26:48.253610Z",
     "iopub.status.idle": "2024-02-27T06:26:48.472217Z",
     "shell.execute_reply": "2024-02-27T06:26:48.470789Z"
    },
    "papermill": {
     "duration": 0.226882,
     "end_time": "2024-02-27T06:26:48.474392",
     "exception": false,
     "start_time": "2024-02-27T06:26:48.247510",
     "status": "completed"
    },
    "tags": []
   },
   "outputs": [
    {
     "name": "stdout",
     "output_type": "stream",
     "text": [
      "Test Accuracy: 0.9079961464354528\n"
     ]
    }
   ],
   "source": [
    "# 테스트 데이터 예측 수행\n",
    "y_pred_encoded = random_search.predict(X_test)\n",
    "y_pred = label_encoder.inverse_transform(y_pred_encoded)\n",
    "\n",
    "# 정확도 계산\n",
    "test_accuracy = accuracy_score(y_test, y_pred)\n",
    "print(f'Test Accuracy: {test_accuracy}')"
   ]
  },
  {
   "cell_type": "code",
   "execution_count": 13,
   "id": "b2b0c02d",
   "metadata": {
    "execution": {
     "iopub.execute_input": "2024-02-27T06:26:48.485705Z",
     "iopub.status.busy": "2024-02-27T06:26:48.485174Z",
     "iopub.status.idle": "2024-02-27T06:26:48.500399Z",
     "shell.execute_reply": "2024-02-27T06:26:48.499763Z"
    },
    "papermill": {
     "duration": 0.022823,
     "end_time": "2024-02-27T06:26:48.502233",
     "exception": false,
     "start_time": "2024-02-27T06:26:48.479410",
     "status": "completed"
    },
    "tags": []
   },
   "outputs": [
    {
     "name": "stdout",
     "output_type": "stream",
     "text": [
      "Accuracy: 0.9080\n",
      "Recall: 0.8979\n",
      "Precision: 0.8986\n",
      "F1 Score: 0.8983\n"
     ]
    }
   ],
   "source": [
    "# 성능 지표 계산\n",
    "accuracy = accuracy_score(y_test_encoded, y_pred_encoded)\n",
    "recall = recall_score(y_test_encoded, y_pred_encoded, average='macro')\n",
    "precision = precision_score(y_test_encoded, y_pred_encoded, average='macro')\n",
    "f1 = f1_score(y_test_encoded, y_pred_encoded, average='macro')\n",
    "\n",
    "# 결과 출력\n",
    "print(f'Accuracy: {accuracy:.4f}')\n",
    "print(f'Recall: {recall:.4f}')\n",
    "print(f'Precision: {precision:.4f}')\n",
    "print(f'F1 Score: {f1:.4f}')"
   ]
  },
  {
   "cell_type": "code",
   "execution_count": 14,
   "id": "65b2f0ba",
   "metadata": {
    "execution": {
     "iopub.execute_input": "2024-02-27T06:26:48.513768Z",
     "iopub.status.busy": "2024-02-27T06:26:48.513083Z",
     "iopub.status.idle": "2024-02-27T06:26:49.846719Z",
     "shell.execute_reply": "2024-02-27T06:26:49.846001Z"
    },
    "papermill": {
     "duration": 1.341026,
     "end_time": "2024-02-27T06:26:49.848393",
     "exception": false,
     "start_time": "2024-02-27T06:26:48.507367",
     "status": "completed"
    },
    "tags": []
   },
   "outputs": [
    {
     "name": "stdout",
     "output_type": "stream",
     "text": [
      "학습시간 : 0.12658905982971191 초\n",
      "0.0 시간, 0.0 분, 0.12658905982971191 초\n"
     ]
    }
   ],
   "source": [
    "import lightgbm as lgb\n",
    "from sklearn.model_selection import train_test_split\n",
    "from sklearn.pipeline import Pipeline\n",
    "from sklearn.preprocessing import StandardScaler\n",
    "from sklearn.datasets import load_iris\n",
    "import time\n",
    "\n",
    "def convert_seconds_to_hms(seconds):\n",
    "    hours = seconds // 3600\n",
    "    minutes = (seconds % 3600) // 60\n",
    "    seconds = seconds % 60\n",
    "    return hours, minutes, seconds\n",
    "\n",
    "data = load_iris()\n",
    "X = data.data\n",
    "y = data.target\n",
    "\n",
    "X_train, X_val, y_train, y_val = train_test_split(X, y, test_size=0.2, random_state=42)\n",
    "\n",
    "pipeline = Pipeline([\n",
    "    ('scaler', StandardScaler()),\n",
    "    ('classifier', lgb.LGBMClassifier(random_state=42, verbose=-1))\n",
    "])\n",
    "\n",
    "# 시간 측정\n",
    "start_time = time.time()\n",
    "pipeline.fit(X_train, y_train)\n",
    "end_time = time.time()\n",
    "hours, minutes, seconds = convert_seconds_to_hms(end_time - start_time)\n",
    "\n",
    "# 최종 확인\n",
    "print(f\"학습시간 : {end_time - start_time} 초\")\n",
    "print(f\"{hours} 시간, {minutes} 분, {seconds} 초\")"
   ]
  },
  {
   "cell_type": "code",
   "execution_count": 15,
   "id": "59c9bb07",
   "metadata": {
    "execution": {
     "iopub.execute_input": "2024-02-27T06:26:49.860473Z",
     "iopub.status.busy": "2024-02-27T06:26:49.859897Z",
     "iopub.status.idle": "2024-02-27T06:26:51.572612Z",
     "shell.execute_reply": "2024-02-27T06:26:51.571601Z"
    },
    "papermill": {
     "duration": 1.721135,
     "end_time": "2024-02-27T06:26:51.574777",
     "exception": false,
     "start_time": "2024-02-27T06:26:49.853642",
     "status": "completed"
    },
    "tags": []
   },
   "outputs": [
    {
     "data": {
      "text/plain": [
       "array(['Obesity_Type_II', 'Overweight_Level_I', 'Obesity_Type_III', ...,\n",
       "       'Insufficient_Weight', 'Normal_Weight', 'Obesity_Type_II'],\n",
       "      dtype=object)"
      ]
     },
     "execution_count": 15,
     "metadata": {},
     "output_type": "execute_result"
    }
   ],
   "source": [
    "preds = random_search.predict(test)\n",
    "test_preds = label_encoder.inverse_transform(preds)\n",
    "test_preds"
   ]
  },
  {
   "cell_type": "code",
   "execution_count": 16,
   "id": "735c1427",
   "metadata": {
    "execution": {
     "iopub.execute_input": "2024-02-27T06:26:51.587056Z",
     "iopub.status.busy": "2024-02-27T06:26:51.586158Z",
     "iopub.status.idle": "2024-02-27T06:26:51.592479Z",
     "shell.execute_reply": "2024-02-27T06:26:51.591729Z"
    },
    "papermill": {
     "duration": 0.013884,
     "end_time": "2024-02-27T06:26:51.593948",
     "exception": false,
     "start_time": "2024-02-27T06:26:51.580064",
     "status": "completed"
    },
    "tags": []
   },
   "outputs": [
    {
     "data": {
      "text/plain": [
       "0    20758\n",
       "Name: id, dtype: int64"
      ]
     },
     "execution_count": 16,
     "metadata": {},
     "output_type": "execute_result"
    }
   ],
   "source": [
    "submission['id'].head(1)"
   ]
  },
  {
   "cell_type": "code",
   "execution_count": 17,
   "id": "1ec4b296",
   "metadata": {
    "execution": {
     "iopub.execute_input": "2024-02-27T06:26:51.605679Z",
     "iopub.status.busy": "2024-02-27T06:26:51.605380Z",
     "iopub.status.idle": "2024-02-27T06:26:51.623752Z",
     "shell.execute_reply": "2024-02-27T06:26:51.622841Z"
    },
    "papermill": {
     "duration": 0.026153,
     "end_time": "2024-02-27T06:26:51.625649",
     "exception": false,
     "start_time": "2024-02-27T06:26:51.599496",
     "status": "completed"
    },
    "tags": []
   },
   "outputs": [],
   "source": [
    "submission['NObeyesdad'] = test_preds\n",
    "submission.to_csv(\"submission_ver_2.csv\", index=False)"
   ]
  },
  {
   "cell_type": "code",
   "execution_count": null,
   "id": "3ffa668d",
   "metadata": {
    "papermill": {
     "duration": 0.054668,
     "end_time": "2024-02-27T06:26:51.685680",
     "exception": false,
     "start_time": "2024-02-27T06:26:51.631012",
     "status": "completed"
    },
    "tags": []
   },
   "outputs": [],
   "source": []
  },
  {
   "cell_type": "code",
   "execution_count": null,
   "id": "5fa35124",
   "metadata": {
    "papermill": {
     "duration": 0.004828,
     "end_time": "2024-02-27T06:26:51.695774",
     "exception": false,
     "start_time": "2024-02-27T06:26:51.690946",
     "status": "completed"
    },
    "tags": []
   },
   "outputs": [],
   "source": []
  }
 ],
 "metadata": {
  "kaggle": {
   "accelerator": "none",
   "dataSources": [
    {
     "databundleVersionId": 7609535,
     "sourceId": 68479,
     "sourceType": "competition"
    }
   ],
   "dockerImageVersionId": 30646,
   "isGpuEnabled": false,
   "isInternetEnabled": true,
   "language": "python",
   "sourceType": "notebook"
  },
  "kernelspec": {
   "display_name": "Python 3",
   "language": "python",
   "name": "python3"
  },
  "language_info": {
   "codemirror_mode": {
    "name": "ipython",
    "version": 3
   },
   "file_extension": ".py",
   "mimetype": "text/x-python",
   "name": "python",
   "nbconvert_exporter": "python",
   "pygments_lexer": "ipython3",
   "version": "3.10.13"
  },
  "papermill": {
   "default_parameters": {},
   "duration": 3607.960268,
   "end_time": "2024-02-27T06:26:54.326846",
   "environment_variables": {},
   "exception": null,
   "input_path": "__notebook__.ipynb",
   "output_path": "__notebook__.ipynb",
   "parameters": {},
   "start_time": "2024-02-27T05:26:46.366578",
   "version": "2.5.0"
  }
 },
 "nbformat": 4,
 "nbformat_minor": 5
}
